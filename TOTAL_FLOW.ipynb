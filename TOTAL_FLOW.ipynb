{
 "cells": [
  {
   "cell_type": "code",
   "execution_count": 8,
   "metadata": {
    "id": "5tB83gPh5tA_"
   },
   "outputs": [],
   "source": [
    "#importing required libraries\n",
    "import pandas as pd                             # DataFrames for tabular data\n",
    "import numpy as np                              # ndarrys for gridded data\n",
    "import matplotlib.pyplot as plt                 # plotting\n",
    "import seaborn as sns                           # generates enhanced plots"
   ]
  },
  {
   "cell_type": "code",
   "execution_count": 9,
   "metadata": {
    "id": "eD0a3yIe6quH"
   },
   "outputs": [],
   "source": [
    "#reading a .csv file as a DataFrame (petroleumflowdat.csv)\n",
    "oil = pd.read_csv('petroleumflowdata.csv')"
   ]
  },
  {
   "cell_type": "code",
   "execution_count": 10,
   "metadata": {
    "colab": {
     "base_uri": "https://localhost:8080/",
     "height": 267
    },
    "id": "h0ZSeKbL61yq",
    "outputId": "76baa84a-a1a3-4e91-c440-91624671f887"
   },
   "outputs": [
    {
     "data": {
      "text/html": [
       "<div>\n",
       "<style scoped>\n",
       "    .dataframe tbody tr th:only-of-type {\n",
       "        vertical-align: middle;\n",
       "    }\n",
       "\n",
       "    .dataframe tbody tr th {\n",
       "        vertical-align: top;\n",
       "    }\n",
       "\n",
       "    .dataframe thead th {\n",
       "        text-align: right;\n",
       "    }\n",
       "</style>\n",
       "<table border=\"1\" class=\"dataframe\">\n",
       "  <thead>\n",
       "    <tr style=\"text-align: right;\">\n",
       "      <th></th>\n",
       "      <th>Date</th>\n",
       "      <th>Cum. flow</th>\n",
       "      <th>Condensate</th>\n",
       "      <th>Water</th>\n",
       "      <th>CGR</th>\n",
       "      <th>WGR</th>\n",
       "      <th>Avg. Pressure</th>\n",
       "      <th>Total flow</th>\n",
       "    </tr>\n",
       "  </thead>\n",
       "  <tbody>\n",
       "    <tr>\n",
       "      <th>0</th>\n",
       "      <td>22/05/2004</td>\n",
       "      <td>10.7415</td>\n",
       "      <td>0.00</td>\n",
       "      <td>0.00</td>\n",
       "      <td>0.000000</td>\n",
       "      <td>0.000000</td>\n",
       "      <td>0.0</td>\n",
       "      <td>10.7415</td>\n",
       "    </tr>\n",
       "    <tr>\n",
       "      <th>1</th>\n",
       "      <td>23/05/2004</td>\n",
       "      <td>34.3655</td>\n",
       "      <td>8.05</td>\n",
       "      <td>3.20</td>\n",
       "      <td>0.340755</td>\n",
       "      <td>0.135455</td>\n",
       "      <td>2242.0</td>\n",
       "      <td>23.6240</td>\n",
       "    </tr>\n",
       "    <tr>\n",
       "      <th>2</th>\n",
       "      <td>24/05/2004</td>\n",
       "      <td>58.6060</td>\n",
       "      <td>8.12</td>\n",
       "      <td>5.03</td>\n",
       "      <td>0.334977</td>\n",
       "      <td>0.207504</td>\n",
       "      <td>2283.0</td>\n",
       "      <td>24.2405</td>\n",
       "    </tr>\n",
       "    <tr>\n",
       "      <th>3</th>\n",
       "      <td>25/05/2004</td>\n",
       "      <td>83.7587</td>\n",
       "      <td>8.01</td>\n",
       "      <td>3.10</td>\n",
       "      <td>0.318455</td>\n",
       "      <td>0.123247</td>\n",
       "      <td>2323.0</td>\n",
       "      <td>25.1527</td>\n",
       "    </tr>\n",
       "    <tr>\n",
       "      <th>4</th>\n",
       "      <td>26/05/2004</td>\n",
       "      <td>108.0027</td>\n",
       "      <td>5.58</td>\n",
       "      <td>1.43</td>\n",
       "      <td>0.230160</td>\n",
       "      <td>0.058984</td>\n",
       "      <td>2328.5</td>\n",
       "      <td>24.2440</td>\n",
       "    </tr>\n",
       "  </tbody>\n",
       "</table>\n",
       "</div>"
      ],
      "text/plain": [
       "         Date  Cum. flow  Condensate  Water       CGR       WGR  \\\n",
       "0  22/05/2004    10.7415        0.00   0.00  0.000000  0.000000   \n",
       "1  23/05/2004    34.3655        8.05   3.20  0.340755  0.135455   \n",
       "2  24/05/2004    58.6060        8.12   5.03  0.334977  0.207504   \n",
       "3  25/05/2004    83.7587        8.01   3.10  0.318455  0.123247   \n",
       "4  26/05/2004   108.0027        5.58   1.43  0.230160  0.058984   \n",
       "\n",
       "   Avg. Pressure  Total flow  \n",
       "0            0.0     10.7415  \n",
       "1         2242.0     23.6240  \n",
       "2         2283.0     24.2405  \n",
       "3         2323.0     25.1527  \n",
       "4         2328.5     24.2440  "
      ]
     },
     "execution_count": 10,
     "metadata": {},
     "output_type": "execute_result"
    }
   ],
   "source": [
    "#we using this command for a table preview\n",
    "oil.head()"
   ]
  },
  {
   "cell_type": "code",
   "execution_count": 11,
   "metadata": {
    "colab": {
     "base_uri": "https://localhost:8080/",
     "height": 206
    },
    "id": "qyme8wk_61p_",
    "outputId": "5d18d882-1be7-46a6-dc6a-072c2cf6ef2f"
   },
   "outputs": [
    {
     "data": {
      "text/html": [
       "<div>\n",
       "<style scoped>\n",
       "    .dataframe tbody tr th:only-of-type {\n",
       "        vertical-align: middle;\n",
       "    }\n",
       "\n",
       "    .dataframe tbody tr th {\n",
       "        vertical-align: top;\n",
       "    }\n",
       "\n",
       "    .dataframe thead th {\n",
       "        text-align: right;\n",
       "    }\n",
       "</style>\n",
       "<table border=\"1\" class=\"dataframe\">\n",
       "  <thead>\n",
       "    <tr style=\"text-align: right;\">\n",
       "      <th></th>\n",
       "      <th>Date</th>\n",
       "      <th>Cum. flow</th>\n",
       "      <th>Condensate</th>\n",
       "      <th>Water</th>\n",
       "      <th>CGR</th>\n",
       "      <th>WGR</th>\n",
       "      <th>Avg. Pressure</th>\n",
       "      <th>Total flow</th>\n",
       "    </tr>\n",
       "  </thead>\n",
       "  <tbody>\n",
       "    <tr>\n",
       "      <th>5302</th>\n",
       "      <td>27/11/2018</td>\n",
       "      <td>158168.3551</td>\n",
       "      <td>4.75</td>\n",
       "      <td>312.0</td>\n",
       "      <td>0.438990</td>\n",
       "      <td>28.834690</td>\n",
       "      <td>1560.5</td>\n",
       "      <td>10.8203</td>\n",
       "    </tr>\n",
       "    <tr>\n",
       "      <th>5303</th>\n",
       "      <td>28/11/2018</td>\n",
       "      <td>158178.8228</td>\n",
       "      <td>5.75</td>\n",
       "      <td>265.0</td>\n",
       "      <td>0.549309</td>\n",
       "      <td>25.315972</td>\n",
       "      <td>1590.0</td>\n",
       "      <td>10.4677</td>\n",
       "    </tr>\n",
       "    <tr>\n",
       "      <th>5304</th>\n",
       "      <td>29/11/2018</td>\n",
       "      <td>158189.6846</td>\n",
       "      <td>3.50</td>\n",
       "      <td>293.0</td>\n",
       "      <td>0.322230</td>\n",
       "      <td>26.975271</td>\n",
       "      <td>1592.5</td>\n",
       "      <td>10.8618</td>\n",
       "    </tr>\n",
       "    <tr>\n",
       "      <th>5305</th>\n",
       "      <td>30/11/2018</td>\n",
       "      <td>158200.4554</td>\n",
       "      <td>3.50</td>\n",
       "      <td>287.0</td>\n",
       "      <td>0.324953</td>\n",
       "      <td>26.646117</td>\n",
       "      <td>1594.0</td>\n",
       "      <td>10.7708</td>\n",
       "    </tr>\n",
       "    <tr>\n",
       "      <th>5306</th>\n",
       "      <td>NaN</td>\n",
       "      <td>158211.1964</td>\n",
       "      <td>4.00</td>\n",
       "      <td>288.0</td>\n",
       "      <td>0.372405</td>\n",
       "      <td>26.813146</td>\n",
       "      <td>1595.5</td>\n",
       "      <td>10.7410</td>\n",
       "    </tr>\n",
       "  </tbody>\n",
       "</table>\n",
       "</div>"
      ],
      "text/plain": [
       "            Date    Cum. flow  Condensate  Water       CGR        WGR  \\\n",
       "5302  27/11/2018  158168.3551        4.75  312.0  0.438990  28.834690   \n",
       "5303  28/11/2018  158178.8228        5.75  265.0  0.549309  25.315972   \n",
       "5304  29/11/2018  158189.6846        3.50  293.0  0.322230  26.975271   \n",
       "5305  30/11/2018  158200.4554        3.50  287.0  0.324953  26.646117   \n",
       "5306         NaN  158211.1964        4.00  288.0  0.372405  26.813146   \n",
       "\n",
       "      Avg. Pressure  Total flow  \n",
       "5302         1560.5     10.8203  \n",
       "5303         1590.0     10.4677  \n",
       "5304         1592.5     10.8618  \n",
       "5305         1594.0     10.7708  \n",
       "5306         1595.5     10.7410  "
      ]
     },
     "execution_count": 11,
     "metadata": {},
     "output_type": "execute_result"
    }
   ],
   "source": [
    "oil.tail()"
   ]
  },
  {
   "cell_type": "code",
   "execution_count": 12,
   "metadata": {
    "colab": {
     "base_uri": "https://localhost:8080/"
    },
    "id": "x--9ZgBIfB4l",
    "outputId": "32a76170-7d69-4f96-80eb-754ab3082a2c"
   },
   "outputs": [
    {
     "data": {
      "text/plain": [
       "pandas.core.frame.DataFrame"
      ]
     },
     "execution_count": 12,
     "metadata": {},
     "output_type": "execute_result"
    }
   ],
   "source": [
    "type(oil)"
   ]
  },
  {
   "cell_type": "code",
   "execution_count": 13,
   "metadata": {
    "colab": {
     "base_uri": "https://localhost:8080/"
    },
    "id": "b4d1kRWS7dVF",
    "outputId": "0dce9392-ace5-4873-a481-f88b21b624e0"
   },
   "outputs": [
    {
     "name": "stdout",
     "output_type": "stream",
     "text": [
      "<class 'pandas.core.frame.DataFrame'>\n",
      "RangeIndex: 5307 entries, 0 to 5306\n",
      "Data columns (total 8 columns):\n",
      " #   Column         Non-Null Count  Dtype  \n",
      "---  ------         --------------  -----  \n",
      " 0   Date           5306 non-null   object \n",
      " 1   Cum. flow      5307 non-null   float64\n",
      " 2   Condensate     5307 non-null   float64\n",
      " 3   Water          5307 non-null   float64\n",
      " 4   CGR            5307 non-null   float64\n",
      " 5   WGR            5307 non-null   float64\n",
      " 6   Avg. Pressure  5307 non-null   float64\n",
      " 7   Total flow     5307 non-null   float64\n",
      "dtypes: float64(7), object(1)\n",
      "memory usage: 331.8+ KB\n"
     ]
    }
   ],
   "source": [
    "# information of oil\n",
    "oil.info()"
   ]
  },
  {
   "cell_type": "code",
   "execution_count": 14,
   "metadata": {
    "colab": {
     "base_uri": "https://localhost:8080/",
     "height": 381
    },
    "id": "WcChqmEroNgZ",
    "outputId": "c291b16e-8b77-4e58-ed8b-7570788ad24c"
   },
   "outputs": [
    {
     "data": {
      "text/html": [
       "<div>\n",
       "<style scoped>\n",
       "    .dataframe tbody tr th:only-of-type {\n",
       "        vertical-align: middle;\n",
       "    }\n",
       "\n",
       "    .dataframe tbody tr th {\n",
       "        vertical-align: top;\n",
       "    }\n",
       "\n",
       "    .dataframe thead th {\n",
       "        text-align: right;\n",
       "    }\n",
       "</style>\n",
       "<table border=\"1\" class=\"dataframe\">\n",
       "  <thead>\n",
       "    <tr style=\"text-align: right;\">\n",
       "      <th></th>\n",
       "      <th>Cum. flow</th>\n",
       "      <th>Condensate</th>\n",
       "      <th>Water</th>\n",
       "      <th>CGR</th>\n",
       "      <th>WGR</th>\n",
       "      <th>Avg. Pressure</th>\n",
       "      <th>Total flow</th>\n",
       "    </tr>\n",
       "  </thead>\n",
       "  <tbody>\n",
       "    <tr>\n",
       "      <th>count</th>\n",
       "      <td>5307.000000</td>\n",
       "      <td>5307.000000</td>\n",
       "      <td>5307.000000</td>\n",
       "      <td>5307.000000</td>\n",
       "      <td>5307.000000</td>\n",
       "      <td>5307.000000</td>\n",
       "      <td>5307.000000</td>\n",
       "    </tr>\n",
       "    <tr>\n",
       "      <th>mean</th>\n",
       "      <td>83937.163711</td>\n",
       "      <td>21.602225</td>\n",
       "      <td>50.172154</td>\n",
       "      <td>0.718086</td>\n",
       "      <td>2.701395</td>\n",
       "      <td>1906.785598</td>\n",
       "      <td>29.811795</td>\n",
       "    </tr>\n",
       "    <tr>\n",
       "      <th>std</th>\n",
       "      <td>47152.673681</td>\n",
       "      <td>18.560487</td>\n",
       "      <td>76.061487</td>\n",
       "      <td>0.588929</td>\n",
       "      <td>5.286858</td>\n",
       "      <td>222.967627</td>\n",
       "      <td>10.352953</td>\n",
       "    </tr>\n",
       "    <tr>\n",
       "      <th>min</th>\n",
       "      <td>10.741500</td>\n",
       "      <td>0.000000</td>\n",
       "      <td>0.000000</td>\n",
       "      <td>0.000000</td>\n",
       "      <td>0.000000</td>\n",
       "      <td>0.000000</td>\n",
       "      <td>4.506700</td>\n",
       "    </tr>\n",
       "    <tr>\n",
       "      <th>25%</th>\n",
       "      <td>47144.646100</td>\n",
       "      <td>9.500000</td>\n",
       "      <td>4.750000</td>\n",
       "      <td>0.385384</td>\n",
       "      <td>0.113129</td>\n",
       "      <td>1731.500000</td>\n",
       "      <td>21.595100</td>\n",
       "    </tr>\n",
       "    <tr>\n",
       "      <th>50%</th>\n",
       "      <td>79235.443400</td>\n",
       "      <td>18.000000</td>\n",
       "      <td>6.000000</td>\n",
       "      <td>0.570292</td>\n",
       "      <td>0.165248</td>\n",
       "      <td>1850.000000</td>\n",
       "      <td>31.034400</td>\n",
       "    </tr>\n",
       "    <tr>\n",
       "      <th>75%</th>\n",
       "      <td>127310.681700</td>\n",
       "      <td>26.000000</td>\n",
       "      <td>76.250000</td>\n",
       "      <td>0.744793</td>\n",
       "      <td>3.755925</td>\n",
       "      <td>2066.750000</td>\n",
       "      <td>38.229250</td>\n",
       "    </tr>\n",
       "    <tr>\n",
       "      <th>max</th>\n",
       "      <td>158211.196400</td>\n",
       "      <td>110.500000</td>\n",
       "      <td>495.000000</td>\n",
       "      <td>4.652305</td>\n",
       "      <td>40.082697</td>\n",
       "      <td>2595.000000</td>\n",
       "      <td>51.660900</td>\n",
       "    </tr>\n",
       "  </tbody>\n",
       "</table>\n",
       "</div>"
      ],
      "text/plain": [
       "           Cum. flow   Condensate        Water          CGR          WGR  \\\n",
       "count    5307.000000  5307.000000  5307.000000  5307.000000  5307.000000   \n",
       "mean    83937.163711    21.602225    50.172154     0.718086     2.701395   \n",
       "std     47152.673681    18.560487    76.061487     0.588929     5.286858   \n",
       "min        10.741500     0.000000     0.000000     0.000000     0.000000   \n",
       "25%     47144.646100     9.500000     4.750000     0.385384     0.113129   \n",
       "50%     79235.443400    18.000000     6.000000     0.570292     0.165248   \n",
       "75%    127310.681700    26.000000    76.250000     0.744793     3.755925   \n",
       "max    158211.196400   110.500000   495.000000     4.652305    40.082697   \n",
       "\n",
       "       Avg. Pressure   Total flow  \n",
       "count    5307.000000  5307.000000  \n",
       "mean     1906.785598    29.811795  \n",
       "std       222.967627    10.352953  \n",
       "min         0.000000     4.506700  \n",
       "25%      1731.500000    21.595100  \n",
       "50%      1850.000000    31.034400  \n",
       "75%      2066.750000    38.229250  \n",
       "max      2595.000000    51.660900  "
      ]
     },
     "execution_count": 14,
     "metadata": {},
     "output_type": "execute_result"
    }
   ],
   "source": [
    "#checking the summary summary statistics.\n",
    "oil.describe()"
   ]
  },
  {
   "cell_type": "code",
   "execution_count": 15,
   "metadata": {
    "colab": {
     "base_uri": "https://localhost:8080/"
    },
    "id": "9Cf8wSizoV1y",
    "outputId": "98f3e86e-2966-4f75-983d-f13b7604a95d"
   },
   "outputs": [
    {
     "data": {
      "text/plain": [
       "Date             1\n",
       "Cum. flow        0\n",
       "Condensate       0\n",
       "Water            0\n",
       "CGR              0\n",
       "WGR              0\n",
       "Avg. Pressure    0\n",
       "Total flow       0\n",
       "dtype: int64"
      ]
     },
     "execution_count": 15,
     "metadata": {},
     "output_type": "execute_result"
    }
   ],
   "source": [
    "# checking missing values\n",
    "oil.isnull().sum()"
   ]
  },
  {
   "cell_type": "markdown",
   "metadata": {
    "id": "yahUceQLopZi"
   },
   "source": [
    "By checking the missing date we can see it corresponds to the last day in our time series record since it is just one data point and given it is the last in our record(hence does not have predictive value) we just drop it."
   ]
  },
  {
   "cell_type": "code",
   "execution_count": 16,
   "metadata": {
    "id": "-9AWgjNzpBCC"
   },
   "outputs": [],
   "source": [
    "oil =  oil.dropna(axis = 0)"
   ]
  },
  {
   "cell_type": "code",
   "execution_count": 17,
   "metadata": {
    "id": "0vwN5skhpK_V"
   },
   "outputs": [],
   "source": [
    "# converting the date column to date format\n",
    "oil['Date'] = pd.to_datetime(oil['Date'],format='%d/%m/%Y')"
   ]
  },
  {
   "cell_type": "code",
   "execution_count": 18,
   "metadata": {
    "id": "YKnXXF83JxbS"
   },
   "outputs": [],
   "source": [
    "oil = oil.set_index('Date')"
   ]
  },
  {
   "cell_type": "code",
   "execution_count": 19,
   "metadata": {
    "colab": {
     "base_uri": "https://localhost:8080/",
     "height": 445
    },
    "id": "jirPKqucqPq6",
    "outputId": "0ad734c0-9033-4e17-d96d-d3007cb7e346"
   },
   "outputs": [
    {
     "data": {
      "image/png": "[encoded data removed]",
      "text/plain": [
       "<Figure size 1152x504 with 1 Axes>"
      ]
     },
     "metadata": {
      "needs_background": "light"
     },
     "output_type": "display_data"
    }
   ],
   "source": [
    "# here this plot shows the monthly oil flow from year 2006 to 2018.\n",
    "oil['Total flow'].plot(lw=1.5, color='midnightblue', figsize=(16, 7))\n",
    "plt.title('monthly oil flow', fontsize=16)\n",
    "plt.xlabel('')\n",
    "plt.ylabel('flow', fontsize=12);"
   ]
  },
  {
   "cell_type": "code",
   "execution_count": 20,
   "metadata": {
    "colab": {
     "base_uri": "https://localhost:8080/",
     "height": 677
    },
    "id": "ktOrHTAYKgJ8",
    "outputId": "375466dd-ddfa-4832-86fc-421b678759a4"
   },
   "outputs": [
    {
     "data": {
      "text/html": [
       "<div>\n",
       "<style scoped>\n",
       "    .dataframe tbody tr th:only-of-type {\n",
       "        vertical-align: middle;\n",
       "    }\n",
       "\n",
       "    .dataframe tbody tr th {\n",
       "        vertical-align: top;\n",
       "    }\n",
       "\n",
       "    .dataframe thead th {\n",
       "        text-align: right;\n",
       "    }\n",
       "</style>\n",
       "<table border=\"1\" class=\"dataframe\">\n",
       "  <thead>\n",
       "    <tr style=\"text-align: right;\">\n",
       "      <th></th>\n",
       "      <th>Date</th>\n",
       "      <th>Cum. flow</th>\n",
       "      <th>Condensate</th>\n",
       "      <th>Water</th>\n",
       "      <th>CGR</th>\n",
       "      <th>WGR</th>\n",
       "      <th>Avg. Pressure</th>\n",
       "      <th>Total flow</th>\n",
       "      <th>Day</th>\n",
       "      <th>Month</th>\n",
       "      <th>Year</th>\n",
       "    </tr>\n",
       "  </thead>\n",
       "  <tbody>\n",
       "    <tr>\n",
       "      <th>0</th>\n",
       "      <td>2004-05-22</td>\n",
       "      <td>10.7415</td>\n",
       "      <td>0.00</td>\n",
       "      <td>0.00</td>\n",
       "      <td>0.000000</td>\n",
       "      <td>0.000000</td>\n",
       "      <td>0.0</td>\n",
       "      <td>10.7415</td>\n",
       "      <td>22</td>\n",
       "      <td>05</td>\n",
       "      <td>2004</td>\n",
       "    </tr>\n",
       "    <tr>\n",
       "      <th>1</th>\n",
       "      <td>2004-05-23</td>\n",
       "      <td>34.3655</td>\n",
       "      <td>8.05</td>\n",
       "      <td>3.20</td>\n",
       "      <td>0.340755</td>\n",
       "      <td>0.135455</td>\n",
       "      <td>2242.0</td>\n",
       "      <td>23.6240</td>\n",
       "      <td>23</td>\n",
       "      <td>05</td>\n",
       "      <td>2004</td>\n",
       "    </tr>\n",
       "    <tr>\n",
       "      <th>2</th>\n",
       "      <td>2004-05-24</td>\n",
       "      <td>58.6060</td>\n",
       "      <td>8.12</td>\n",
       "      <td>5.03</td>\n",
       "      <td>0.334977</td>\n",
       "      <td>0.207504</td>\n",
       "      <td>2283.0</td>\n",
       "      <td>24.2405</td>\n",
       "      <td>24</td>\n",
       "      <td>05</td>\n",
       "      <td>2004</td>\n",
       "    </tr>\n",
       "    <tr>\n",
       "      <th>3</th>\n",
       "      <td>2004-05-25</td>\n",
       "      <td>83.7587</td>\n",
       "      <td>8.01</td>\n",
       "      <td>3.10</td>\n",
       "      <td>0.318455</td>\n",
       "      <td>0.123247</td>\n",
       "      <td>2323.0</td>\n",
       "      <td>25.1527</td>\n",
       "      <td>25</td>\n",
       "      <td>05</td>\n",
       "      <td>2004</td>\n",
       "    </tr>\n",
       "    <tr>\n",
       "      <th>4</th>\n",
       "      <td>2004-05-26</td>\n",
       "      <td>108.0027</td>\n",
       "      <td>5.58</td>\n",
       "      <td>1.43</td>\n",
       "      <td>0.230160</td>\n",
       "      <td>0.058984</td>\n",
       "      <td>2328.5</td>\n",
       "      <td>24.2440</td>\n",
       "      <td>26</td>\n",
       "      <td>05</td>\n",
       "      <td>2004</td>\n",
       "    </tr>\n",
       "    <tr>\n",
       "      <th>...</th>\n",
       "      <td>...</td>\n",
       "      <td>...</td>\n",
       "      <td>...</td>\n",
       "      <td>...</td>\n",
       "      <td>...</td>\n",
       "      <td>...</td>\n",
       "      <td>...</td>\n",
       "      <td>...</td>\n",
       "      <td>...</td>\n",
       "      <td>...</td>\n",
       "      <td>...</td>\n",
       "    </tr>\n",
       "    <tr>\n",
       "      <th>5301</th>\n",
       "      <td>2018-11-26</td>\n",
       "      <td>158157.5348</td>\n",
       "      <td>3.75</td>\n",
       "      <td>338.00</td>\n",
       "      <td>0.350543</td>\n",
       "      <td>31.595577</td>\n",
       "      <td>1556.0</td>\n",
       "      <td>10.6977</td>\n",
       "      <td>26</td>\n",
       "      <td>11</td>\n",
       "      <td>2018</td>\n",
       "    </tr>\n",
       "    <tr>\n",
       "      <th>5302</th>\n",
       "      <td>2018-11-27</td>\n",
       "      <td>158168.3551</td>\n",
       "      <td>4.75</td>\n",
       "      <td>312.00</td>\n",
       "      <td>0.438990</td>\n",
       "      <td>28.834690</td>\n",
       "      <td>1560.5</td>\n",
       "      <td>10.8203</td>\n",
       "      <td>27</td>\n",
       "      <td>11</td>\n",
       "      <td>2018</td>\n",
       "    </tr>\n",
       "    <tr>\n",
       "      <th>5303</th>\n",
       "      <td>2018-11-28</td>\n",
       "      <td>158178.8228</td>\n",
       "      <td>5.75</td>\n",
       "      <td>265.00</td>\n",
       "      <td>0.549309</td>\n",
       "      <td>25.315972</td>\n",
       "      <td>1590.0</td>\n",
       "      <td>10.4677</td>\n",
       "      <td>28</td>\n",
       "      <td>11</td>\n",
       "      <td>2018</td>\n",
       "    </tr>\n",
       "    <tr>\n",
       "      <th>5304</th>\n",
       "      <td>2018-11-29</td>\n",
       "      <td>158189.6846</td>\n",
       "      <td>3.50</td>\n",
       "      <td>293.00</td>\n",
       "      <td>0.322230</td>\n",
       "      <td>26.975271</td>\n",
       "      <td>1592.5</td>\n",
       "      <td>10.8618</td>\n",
       "      <td>29</td>\n",
       "      <td>11</td>\n",
       "      <td>2018</td>\n",
       "    </tr>\n",
       "    <tr>\n",
       "      <th>5305</th>\n",
       "      <td>2018-11-30</td>\n",
       "      <td>158200.4554</td>\n",
       "      <td>3.50</td>\n",
       "      <td>287.00</td>\n",
       "      <td>0.324953</td>\n",
       "      <td>26.646117</td>\n",
       "      <td>1594.0</td>\n",
       "      <td>10.7708</td>\n",
       "      <td>30</td>\n",
       "      <td>11</td>\n",
       "      <td>2018</td>\n",
       "    </tr>\n",
       "  </tbody>\n",
       "</table>\n",
       "<p>5306 rows × 11 columns</p>\n",
       "</div>"
      ],
      "text/plain": [
       "           Date    Cum. flow  Condensate   Water       CGR        WGR  \\\n",
       "0    2004-05-22      10.7415        0.00    0.00  0.000000   0.000000   \n",
       "1    2004-05-23      34.3655        8.05    3.20  0.340755   0.135455   \n",
       "2    2004-05-24      58.6060        8.12    5.03  0.334977   0.207504   \n",
       "3    2004-05-25      83.7587        8.01    3.10  0.318455   0.123247   \n",
       "4    2004-05-26     108.0027        5.58    1.43  0.230160   0.058984   \n",
       "...         ...          ...         ...     ...       ...        ...   \n",
       "5301 2018-11-26  158157.5348        3.75  338.00  0.350543  31.595577   \n",
       "5302 2018-11-27  158168.3551        4.75  312.00  0.438990  28.834690   \n",
       "5303 2018-11-28  158178.8228        5.75  265.00  0.549309  25.315972   \n",
       "5304 2018-11-29  158189.6846        3.50  293.00  0.322230  26.975271   \n",
       "5305 2018-11-30  158200.4554        3.50  287.00  0.324953  26.646117   \n",
       "\n",
       "      Avg. Pressure  Total flow Day Month  Year  \n",
       "0               0.0     10.7415  22    05  2004  \n",
       "1            2242.0     23.6240  23    05  2004  \n",
       "2            2283.0     24.2405  24    05  2004  \n",
       "3            2323.0     25.1527  25    05  2004  \n",
       "4            2328.5     24.2440  26    05  2004  \n",
       "...             ...         ...  ..   ...   ...  \n",
       "5301         1556.0     10.6977  26    11  2018  \n",
       "5302         1560.5     10.8203  27    11  2018  \n",
       "5303         1590.0     10.4677  28    11  2018  \n",
       "5304         1592.5     10.8618  29    11  2018  \n",
       "5305         1594.0     10.7708  30    11  2018  \n",
       "\n",
       "[5306 rows x 11 columns]"
      ]
     },
     "execution_count": 20,
     "metadata": {},
     "output_type": "execute_result"
    }
   ],
   "source": [
    "# Indexing the Batches\n",
    "train_df = oil.sort_values(by=['Date']).copy()\n",
    "\n",
    "date_index = oil.index\n",
    "date_index_df = pd.DataFrame(date_index)\n",
    "\n",
    "# Adding Month and Year in separate columns\n",
    "d = pd.to_datetime(train_df.index)\n",
    "train_df['Day'] = d.strftime(\"%d\")\n",
    "train_df['Month'] = d.strftime(\"%m\") \n",
    "train_df['Year'] = d.strftime(\"%Y\") \n",
    "\n",
    "# We convert the date-index into a number-index\n",
    "train_df = train_df.reset_index(level=0)\n",
    "train_df"
   ]
  },
  {
   "cell_type": "code",
   "execution_count": 21,
   "metadata": {
    "colab": {
     "base_uri": "https://localhost:8080/",
     "height": 445
    },
    "id": "Axt9GH-FKgAC",
    "outputId": "40e052ab-1d98-4967-a468-64a6925db865"
   },
   "outputs": [
    {
     "data": {
      "image/png": "[encoded data removed]",
      "text/plain": [
       "<Figure size 1152x504 with 1 Axes>"
      ]
     },
     "metadata": {
      "needs_background": "light"
     },
     "output_type": "display_data"
    }
   ],
   "source": [
    "# box plots for oil flow from year 2004-2018\n",
    "plt.figure(figsize=(16,7))\n",
    "\n",
    "ax=sns.boxplot(x='Year', y='Total flow', data = train_df, orient='v', palette = sns.color_palette(\"deep\", 5))\n",
    "ax.set(ylim=(-50, 600))\n",
    "\n",
    "plt.title('Boxplots by Year', fontsize=16)\n",
    "plt.xlabel('')\n",
    "plt.ylabel('flow', fontsize=12);"
   ]
  },
  {
   "cell_type": "markdown",
   "metadata": {
    "id": "oNugSaC8p-Ps"
   },
   "source": [
    "There is no particular differences in the distributions of the oil flow across the years apart from the period we identified as to corresponding to the financial crisis\n"
   ]
  },
  {
   "cell_type": "code",
   "execution_count": 22,
   "metadata": {
    "colab": {
     "base_uri": "https://localhost:8080/"
    },
    "id": "fshDxHpIs3r7",
    "outputId": "62e8d754-8c01-4d3d-f2cc-e92718e95397"
   },
   "outputs": [
    {
     "data": {
      "text/plain": [
       "Index(['Date', 'Cum. flow', 'Condensate', 'Water', 'CGR', 'WGR',\n",
       "       'Avg. Pressure', 'Total flow', 'Day', 'Month', 'Year'],\n",
       "      dtype='object')"
      ]
     },
     "execution_count": 22,
     "metadata": {},
     "output_type": "execute_result"
    }
   ],
   "source": [
    "train_df.columns"
   ]
  },
  {
   "cell_type": "markdown",
   "metadata": {
    "id": "EYgFn3tywQkp"
   },
   "source": [
    "In time-series data, the relationship between input variables used\n",
    "in the model (independent variable) and the predicted value (output variable) changes\n",
    "over time, as the time-series data have usually trends or seasonal pattern. The proper\n",
    "selection of the time-lag value becomes important to find the section of data where values of\n",
    "independent variables are highly correlated. This would generate more precise results with\n",
    "higher forecasting accuracy."
   ]
  },
  {
   "cell_type": "code",
   "execution_count": 23,
   "metadata": {},
   "outputs": [],
   "source": [
    "import pandas.testing as tm"
   ]
  },
  {
   "cell_type": "code",
   "execution_count": 24,
   "metadata": {
    "colab": {
     "base_uri": "https://localhost:8080/"
    },
    "id": "uBIPdgtJwQLG",
    "outputId": "4c70879d-eab6-43ae-e1ba-84ed435712f8"
   },
   "outputs": [],
   "source": [
    "import statsmodels.api as sm\n",
    "from scipy import stats\n",
    "from statsmodels.tsa.stattools import acf, pacf\n",
    "from statsmodels.tsa.seasonal import seasonal_decompose\n",
    "from statsmodels.graphics.tsaplots import plot_acf, plot_pacf\n",
    "\n",
    "def autocorr_plots(y, lags=20, alpha=0.05):\n",
    "    \"\"\"\n",
    "    This Function is to plot autocorrelations and partial autocorrelations\n",
    "\n",
    "    y: Time series data\n",
    "    lags: Number of lags to plot\n",
    "    alpha: Confidence level for random noise\n",
    "    \n",
    "    \"\"\"\n",
    "    se = stats.norm().ppf(1-alpha/2)/np.sqrt(len(y))\n",
    "    \n",
    "    fig, ax = plt.subplots(ncols=2, figsize=(18, 6), sharey=True)\n",
    "    \n",
    "    plot_acf(y, lags=lags, alpha=alpha, ax=ax[0], color='indigo')\n",
    "    ax[0].hlines(np.array([-1, 1])*se, 1, lags, linestyles='--', lw=1)\n",
    "    ax[0].set_title('Autocorrelation', fontsize=16)\n",
    "    \n",
    "    plot_pacf(y, lags=lags, alpha=alpha, ax=ax[1], method='ywmle', color='indigo')\n",
    "    ax[1].hlines(np.array([-1, 1])*se, 1, lags, linestyles='--', lw=1)\n",
    "    ax[1].set_title('Partial Autocorrelation', fontsize=16)\n",
    "    \n",
    "    return fig, ax\n",
    "\n",
    "def adf_statistics(series):\n",
    "    \"\"\"\n",
    "    This Function is to give output Augmented Dickey-Fuller test for stationarity\n",
    "    \n",
    "    series: Time series of interest\n",
    "    \n",
    "    \"\"\"\n",
    "    result = adfuller(series.values)\n",
    "    \n",
    "    print('ADF Statistic: %.4f' % result[0])\n",
    "    print('p-value: %.4f' % result[1])\n",
    "    \n",
    "    print('Critical Values:')\n",
    "    for key, value in result[4].items():\n",
    "        print('\\t%s: %.4f' % (key, value))\n",
    "    if result[1] < 0.0500:\n",
    "        print(\"Null hypothesis of non-stationarity is rejected\")\n",
    "    else:\n",
    "        print(\"Null hypothesis of non-stationarity is NOT rejected\")"
   ]
  },
  {
   "cell_type": "code",
   "execution_count": 25,
   "metadata": {
    "colab": {
     "base_uri": "https://localhost:8080/",
     "height": 253
    },
    "id": "AfhoRGbwyNNF",
    "outputId": "625dd475-73d5-4a9d-bcaa-102c6399e243"
   },
   "outputs": [
    {
     "data": {
      "image/png": "[encoded data removed]",
      "text/plain": [
       "<Figure size 1296x432 with 2 Axes>"
      ]
     },
     "metadata": {
      "needs_background": "light"
     },
     "output_type": "display_data"
    }
   ],
   "source": [
    "fig, ax = autocorr_plots(train_df['Total flow'], lags= 40)"
   ]
  },
  {
   "cell_type": "markdown",
   "metadata": {
    "id": "rBgbhSPZ1L0I"
   },
   "source": [
    "We observe that the target series is highly non stationary, and the ACF decays very slowly. "
   ]
  },
  {
   "cell_type": "code",
   "execution_count": 26,
   "metadata": {
    "colab": {
     "base_uri": "https://localhost:8080/",
     "height": 255
    },
    "id": "irGsWutO5Nws",
    "outputId": "0da19f51-1b09-46ae-df76-83826f68b2e2",
    "scrolled": true
   },
   "outputs": [
    {
     "data": {
      "image/png": "[encoded data removed]",
      "text/plain": [
       "<Figure size 1296x432 with 2 Axes>"
      ]
     },
     "metadata": {
      "needs_background": "light"
     },
     "output_type": "display_data"
    }
   ],
   "source": [
    "fig, ax = autocorr_plots(train_df['Total flow'].diff()[1:], lags= 40)"
   ]
  },
  {
   "cell_type": "code",
   "execution_count": 27,
   "metadata": {},
   "outputs": [],
   "source": [
    "import warnings"
   ]
  },
  {
   "cell_type": "code",
   "execution_count": 28,
   "metadata": {
    "colab": {
     "base_uri": "https://localhost:8080/",
     "height": 677
    },
    "id": "hB4-yloZt-52",
    "outputId": "11773411-6c51-409a-b77c-eb7d85e7d5d3"
   },
   "outputs": [
    {
     "data": {
      "text/html": [
       "<div>\n",
       "<style scoped>\n",
       "    .dataframe tbody tr th:only-of-type {\n",
       "        vertical-align: middle;\n",
       "    }\n",
       "\n",
       "    .dataframe tbody tr th {\n",
       "        vertical-align: top;\n",
       "    }\n",
       "\n",
       "    .dataframe thead th {\n",
       "        text-align: right;\n",
       "    }\n",
       "</style>\n",
       "<table border=\"1\" class=\"dataframe\">\n",
       "  <thead>\n",
       "    <tr style=\"text-align: right;\">\n",
       "      <th></th>\n",
       "      <th>Date</th>\n",
       "      <th>Cum. flow</th>\n",
       "      <th>Condensate</th>\n",
       "      <th>Water</th>\n",
       "      <th>CGR</th>\n",
       "      <th>WGR</th>\n",
       "      <th>Avg. Pressure</th>\n",
       "      <th>Total flow</th>\n",
       "      <th>Day</th>\n",
       "      <th>Month</th>\n",
       "      <th>Year</th>\n",
       "      <th>target</th>\n",
       "    </tr>\n",
       "  </thead>\n",
       "  <tbody>\n",
       "    <tr>\n",
       "      <th>0</th>\n",
       "      <td>2004-05-22</td>\n",
       "      <td>10.7415</td>\n",
       "      <td>0.00</td>\n",
       "      <td>0.00</td>\n",
       "      <td>0.000000</td>\n",
       "      <td>0.000000</td>\n",
       "      <td>0.0</td>\n",
       "      <td>10.7415</td>\n",
       "      <td>22</td>\n",
       "      <td>05</td>\n",
       "      <td>2004</td>\n",
       "      <td>23.6240</td>\n",
       "    </tr>\n",
       "    <tr>\n",
       "      <th>1</th>\n",
       "      <td>2004-05-23</td>\n",
       "      <td>34.3655</td>\n",
       "      <td>8.05</td>\n",
       "      <td>3.20</td>\n",
       "      <td>0.340755</td>\n",
       "      <td>0.135455</td>\n",
       "      <td>2242.0</td>\n",
       "      <td>23.6240</td>\n",
       "      <td>23</td>\n",
       "      <td>05</td>\n",
       "      <td>2004</td>\n",
       "      <td>24.2405</td>\n",
       "    </tr>\n",
       "    <tr>\n",
       "      <th>2</th>\n",
       "      <td>2004-05-24</td>\n",
       "      <td>58.6060</td>\n",
       "      <td>8.12</td>\n",
       "      <td>5.03</td>\n",
       "      <td>0.334977</td>\n",
       "      <td>0.207504</td>\n",
       "      <td>2283.0</td>\n",
       "      <td>24.2405</td>\n",
       "      <td>24</td>\n",
       "      <td>05</td>\n",
       "      <td>2004</td>\n",
       "      <td>25.1527</td>\n",
       "    </tr>\n",
       "    <tr>\n",
       "      <th>3</th>\n",
       "      <td>2004-05-25</td>\n",
       "      <td>83.7587</td>\n",
       "      <td>8.01</td>\n",
       "      <td>3.10</td>\n",
       "      <td>0.318455</td>\n",
       "      <td>0.123247</td>\n",
       "      <td>2323.0</td>\n",
       "      <td>25.1527</td>\n",
       "      <td>25</td>\n",
       "      <td>05</td>\n",
       "      <td>2004</td>\n",
       "      <td>24.2440</td>\n",
       "    </tr>\n",
       "    <tr>\n",
       "      <th>4</th>\n",
       "      <td>2004-05-26</td>\n",
       "      <td>108.0027</td>\n",
       "      <td>5.58</td>\n",
       "      <td>1.43</td>\n",
       "      <td>0.230160</td>\n",
       "      <td>0.058984</td>\n",
       "      <td>2328.5</td>\n",
       "      <td>24.2440</td>\n",
       "      <td>26</td>\n",
       "      <td>05</td>\n",
       "      <td>2004</td>\n",
       "      <td>25.1299</td>\n",
       "    </tr>\n",
       "    <tr>\n",
       "      <th>...</th>\n",
       "      <td>...</td>\n",
       "      <td>...</td>\n",
       "      <td>...</td>\n",
       "      <td>...</td>\n",
       "      <td>...</td>\n",
       "      <td>...</td>\n",
       "      <td>...</td>\n",
       "      <td>...</td>\n",
       "      <td>...</td>\n",
       "      <td>...</td>\n",
       "      <td>...</td>\n",
       "      <td>...</td>\n",
       "    </tr>\n",
       "    <tr>\n",
       "      <th>5300</th>\n",
       "      <td>2018-11-25</td>\n",
       "      <td>158146.8371</td>\n",
       "      <td>3.75</td>\n",
       "      <td>310.00</td>\n",
       "      <td>0.356521</td>\n",
       "      <td>29.472443</td>\n",
       "      <td>1556.0</td>\n",
       "      <td>10.5183</td>\n",
       "      <td>25</td>\n",
       "      <td>11</td>\n",
       "      <td>2018</td>\n",
       "      <td>10.6977</td>\n",
       "    </tr>\n",
       "    <tr>\n",
       "      <th>5301</th>\n",
       "      <td>2018-11-26</td>\n",
       "      <td>158157.5348</td>\n",
       "      <td>3.75</td>\n",
       "      <td>338.00</td>\n",
       "      <td>0.350543</td>\n",
       "      <td>31.595577</td>\n",
       "      <td>1556.0</td>\n",
       "      <td>10.6977</td>\n",
       "      <td>26</td>\n",
       "      <td>11</td>\n",
       "      <td>2018</td>\n",
       "      <td>10.8203</td>\n",
       "    </tr>\n",
       "    <tr>\n",
       "      <th>5302</th>\n",
       "      <td>2018-11-27</td>\n",
       "      <td>158168.3551</td>\n",
       "      <td>4.75</td>\n",
       "      <td>312.00</td>\n",
       "      <td>0.438990</td>\n",
       "      <td>28.834690</td>\n",
       "      <td>1560.5</td>\n",
       "      <td>10.8203</td>\n",
       "      <td>27</td>\n",
       "      <td>11</td>\n",
       "      <td>2018</td>\n",
       "      <td>10.4677</td>\n",
       "    </tr>\n",
       "    <tr>\n",
       "      <th>5303</th>\n",
       "      <td>2018-11-28</td>\n",
       "      <td>158178.8228</td>\n",
       "      <td>5.75</td>\n",
       "      <td>265.00</td>\n",
       "      <td>0.549309</td>\n",
       "      <td>25.315972</td>\n",
       "      <td>1590.0</td>\n",
       "      <td>10.4677</td>\n",
       "      <td>28</td>\n",
       "      <td>11</td>\n",
       "      <td>2018</td>\n",
       "      <td>10.8618</td>\n",
       "    </tr>\n",
       "    <tr>\n",
       "      <th>5304</th>\n",
       "      <td>2018-11-29</td>\n",
       "      <td>158189.6846</td>\n",
       "      <td>3.50</td>\n",
       "      <td>293.00</td>\n",
       "      <td>0.322230</td>\n",
       "      <td>26.975271</td>\n",
       "      <td>1592.5</td>\n",
       "      <td>10.8618</td>\n",
       "      <td>29</td>\n",
       "      <td>11</td>\n",
       "      <td>2018</td>\n",
       "      <td>10.7708</td>\n",
       "    </tr>\n",
       "  </tbody>\n",
       "</table>\n",
       "<p>5305 rows × 12 columns</p>\n",
       "</div>"
      ],
      "text/plain": [
       "           Date    Cum. flow  Condensate   Water       CGR        WGR  \\\n",
       "0    2004-05-22      10.7415        0.00    0.00  0.000000   0.000000   \n",
       "1    2004-05-23      34.3655        8.05    3.20  0.340755   0.135455   \n",
       "2    2004-05-24      58.6060        8.12    5.03  0.334977   0.207504   \n",
       "3    2004-05-25      83.7587        8.01    3.10  0.318455   0.123247   \n",
       "4    2004-05-26     108.0027        5.58    1.43  0.230160   0.058984   \n",
       "...         ...          ...         ...     ...       ...        ...   \n",
       "5300 2018-11-25  158146.8371        3.75  310.00  0.356521  29.472443   \n",
       "5301 2018-11-26  158157.5348        3.75  338.00  0.350543  31.595577   \n",
       "5302 2018-11-27  158168.3551        4.75  312.00  0.438990  28.834690   \n",
       "5303 2018-11-28  158178.8228        5.75  265.00  0.549309  25.315972   \n",
       "5304 2018-11-29  158189.6846        3.50  293.00  0.322230  26.975271   \n",
       "\n",
       "      Avg. Pressure  Total flow Day Month  Year   target  \n",
       "0               0.0     10.7415  22    05  2004  23.6240  \n",
       "1            2242.0     23.6240  23    05  2004  24.2405  \n",
       "2            2283.0     24.2405  24    05  2004  25.1527  \n",
       "3            2323.0     25.1527  25    05  2004  24.2440  \n",
       "4            2328.5     24.2440  26    05  2004  25.1299  \n",
       "...             ...         ...  ..   ...   ...      ...  \n",
       "5300         1556.0     10.5183  25    11  2018  10.6977  \n",
       "5301         1556.0     10.6977  26    11  2018  10.8203  \n",
       "5302         1560.5     10.8203  27    11  2018  10.4677  \n",
       "5303         1590.0     10.4677  28    11  2018  10.8618  \n",
       "5304         1592.5     10.8618  29    11  2018  10.7708  \n",
       "\n",
       "[5305 rows x 12 columns]"
      ]
     },
     "execution_count": 28,
     "metadata": {},
     "output_type": "execute_result"
    }
   ],
   "source": [
    "# Generating the target variable\n",
    "train_df['target'] = train_df['Total flow'].shift(-1)\n",
    "train_df = train_df.dropna(axis = 0)\n",
    "train_df"
   ]
  },
  {
   "cell_type": "code",
   "execution_count": 29,
   "metadata": {
    "colab": {
     "base_uri": "https://localhost:8080/"
    },
    "id": "vgC-dMYhbyew",
    "outputId": "73480150-2685-4594-8744-9e6bf41ad70f"
   },
   "outputs": [
    {
     "data": {
      "text/plain": [
       "pandas.core.frame.DataFrame"
      ]
     },
     "execution_count": 29,
     "metadata": {},
     "output_type": "execute_result"
    }
   ],
   "source": [
    "#showing type of train_df\n",
    "type(train_df)"
   ]
  },
  {
   "cell_type": "code",
   "execution_count": 30,
   "metadata": {
    "colab": {
     "base_uri": "https://localhost:8080/"
    },
    "id": "YPdxDyiXfQ9a",
    "outputId": "9d61fde3-d70e-414a-9fbb-b667ebdf1678"
   },
   "outputs": [
    {
     "data": {
      "text/plain": [
       "Date             0\n",
       "Cum. flow        0\n",
       "Condensate       0\n",
       "Water            0\n",
       "CGR              0\n",
       "WGR              0\n",
       "Avg. Pressure    0\n",
       "Total flow       0\n",
       "Day              0\n",
       "Month            0\n",
       "Year             0\n",
       "target           0\n",
       "dtype: int64"
      ]
     },
     "execution_count": 30,
     "metadata": {},
     "output_type": "execute_result"
    }
   ],
   "source": [
    "# checking missing values\n",
    "train_df.isnull().sum()"
   ]
  },
  {
   "cell_type": "code",
   "execution_count": 31,
   "metadata": {
    "colab": {
     "base_uri": "https://localhost:8080/",
     "height": 651
    },
    "id": "MVQq4qKeprL7",
    "outputId": "fddc90ce-b54c-4325-85e6-a4afeb206dec"
   },
   "outputs": [
    {
     "data": {
      "image/png": "[encoded data removed]",
      "text/plain": [
       "<Figure size 792x648 with 2 Axes>"
      ]
     },
     "metadata": {
      "needs_background": "light"
     },
     "output_type": "display_data"
    }
   ],
   "source": [
    "# Generating correlation matrix for the continuous variables\n",
    "fig, ax = plt.subplots(figsize=(11, 9))\n",
    "\n",
    "sns.set(font_scale=1.0)\n",
    "sns.heatmap(train_df[['Cum. flow', 'Condensate', 'Water', 'CGR', 'WGR', 'Avg. Pressure', 'Total flow', 'target']].corr(), \n",
    "            annot=True, cmap='coolwarm', ax=ax)\n",
    "ax.set_title(\"Correlation Matrix of Variables\", fontsize=18)\n",
    "ax.set_xticklabels(ax.get_xmajorticklabels(), fontsize=12)\n",
    "ax.set_yticklabels(ax.get_ymajorticklabels(), fontsize=12)\n",
    "plt.show()"
   ]
  },
  {
   "cell_type": "markdown",
   "metadata": {
    "id": "7nlacPrXCT0D"
   },
   "source": [
    "There are generally weak correlations between the continuous explanatory variables with the \"target\" or \"Total flow\" variable one-period ahead. Also there are high correlations between \"water\", \"WGR\" and \"condensate\", \"CGR\" and \"average pressure\", \"CGR\". This will not typically be a problem for machine learning models, but still would prefer a more parsimonious model.\n",
    "\n",
    "Therefore, Here we are deleting the \"CGR\" and \"WGR\" variables."
   ]
  },
  {
   "cell_type": "code",
   "execution_count": 32,
   "metadata": {
    "id": "6AUPRPQVuLKH"
   },
   "outputs": [],
   "source": [
    "# Dropping the unnecessary and redundant variables\n",
    "train_df = train_df.drop(['CGR', 'WGR'], axis=1)"
   ]
  },
  {
   "cell_type": "code",
   "execution_count": 33,
   "metadata": {
    "colab": {
     "base_uri": "https://localhost:8080/",
     "height": 374
    },
    "id": "bGbYzsED5c5M",
    "outputId": "add37eab-753a-40b8-cafd-1e3062113053"
   },
   "outputs": [
    {
     "data": {
      "text/html": [
       "<div>\n",
       "<style scoped>\n",
       "    .dataframe tbody tr th:only-of-type {\n",
       "        vertical-align: middle;\n",
       "    }\n",
       "\n",
       "    .dataframe tbody tr th {\n",
       "        vertical-align: top;\n",
       "    }\n",
       "\n",
       "    .dataframe thead th {\n",
       "        text-align: right;\n",
       "    }\n",
       "</style>\n",
       "<table border=\"1\" class=\"dataframe\">\n",
       "  <thead>\n",
       "    <tr style=\"text-align: right;\">\n",
       "      <th></th>\n",
       "      <th>Date</th>\n",
       "      <th>Cum. flow</th>\n",
       "      <th>Condensate</th>\n",
       "      <th>Water</th>\n",
       "      <th>Avg. Pressure</th>\n",
       "      <th>Total flow</th>\n",
       "      <th>Day</th>\n",
       "      <th>Month</th>\n",
       "      <th>Year</th>\n",
       "      <th>target</th>\n",
       "    </tr>\n",
       "  </thead>\n",
       "  <tbody>\n",
       "    <tr>\n",
       "      <th>5300</th>\n",
       "      <td>2018-11-25</td>\n",
       "      <td>158146.8371</td>\n",
       "      <td>3.75</td>\n",
       "      <td>310.0</td>\n",
       "      <td>1556.0</td>\n",
       "      <td>10.5183</td>\n",
       "      <td>25</td>\n",
       "      <td>11</td>\n",
       "      <td>2018</td>\n",
       "      <td>10.6977</td>\n",
       "    </tr>\n",
       "    <tr>\n",
       "      <th>5301</th>\n",
       "      <td>2018-11-26</td>\n",
       "      <td>158157.5348</td>\n",
       "      <td>3.75</td>\n",
       "      <td>338.0</td>\n",
       "      <td>1556.0</td>\n",
       "      <td>10.6977</td>\n",
       "      <td>26</td>\n",
       "      <td>11</td>\n",
       "      <td>2018</td>\n",
       "      <td>10.8203</td>\n",
       "    </tr>\n",
       "    <tr>\n",
       "      <th>5302</th>\n",
       "      <td>2018-11-27</td>\n",
       "      <td>158168.3551</td>\n",
       "      <td>4.75</td>\n",
       "      <td>312.0</td>\n",
       "      <td>1560.5</td>\n",
       "      <td>10.8203</td>\n",
       "      <td>27</td>\n",
       "      <td>11</td>\n",
       "      <td>2018</td>\n",
       "      <td>10.4677</td>\n",
       "    </tr>\n",
       "    <tr>\n",
       "      <th>5303</th>\n",
       "      <td>2018-11-28</td>\n",
       "      <td>158178.8228</td>\n",
       "      <td>5.75</td>\n",
       "      <td>265.0</td>\n",
       "      <td>1590.0</td>\n",
       "      <td>10.4677</td>\n",
       "      <td>28</td>\n",
       "      <td>11</td>\n",
       "      <td>2018</td>\n",
       "      <td>10.8618</td>\n",
       "    </tr>\n",
       "    <tr>\n",
       "      <th>5304</th>\n",
       "      <td>2018-11-29</td>\n",
       "      <td>158189.6846</td>\n",
       "      <td>3.50</td>\n",
       "      <td>293.0</td>\n",
       "      <td>1592.5</td>\n",
       "      <td>10.8618</td>\n",
       "      <td>29</td>\n",
       "      <td>11</td>\n",
       "      <td>2018</td>\n",
       "      <td>10.7708</td>\n",
       "    </tr>\n",
       "  </tbody>\n",
       "</table>\n",
       "</div>"
      ],
      "text/plain": [
       "           Date    Cum. flow  Condensate  Water  Avg. Pressure  Total flow  \\\n",
       "5300 2018-11-25  158146.8371        3.75  310.0         1556.0     10.5183   \n",
       "5301 2018-11-26  158157.5348        3.75  338.0         1556.0     10.6977   \n",
       "5302 2018-11-27  158168.3551        4.75  312.0         1560.5     10.8203   \n",
       "5303 2018-11-28  158178.8228        5.75  265.0         1590.0     10.4677   \n",
       "5304 2018-11-29  158189.6846        3.50  293.0         1592.5     10.8618   \n",
       "\n",
       "     Day Month  Year   target  \n",
       "5300  25    11  2018  10.6977  \n",
       "5301  26    11  2018  10.8203  \n",
       "5302  27    11  2018  10.4677  \n",
       "5303  28    11  2018  10.8618  \n",
       "5304  29    11  2018  10.7708  "
      ]
     },
     "execution_count": 33,
     "metadata": {},
     "output_type": "execute_result"
    }
   ],
   "source": [
    "train_df.tail()"
   ]
  },
  {
   "cell_type": "code",
   "execution_count": 34,
   "metadata": {
    "colab": {
     "base_uri": "https://localhost:8080/"
    },
    "id": "OyY-Ug7Jy6IG",
    "outputId": "34111e07-e1b2-41f8-f7ac-f305e5954dc7"
   },
   "outputs": [
    {
     "name": "stdout",
     "output_type": "stream",
     "text": [
      "<class 'pandas.core.frame.DataFrame'>\n",
      "Int64Index: 5305 entries, 0 to 5304\n",
      "Data columns (total 10 columns):\n",
      " #   Column         Non-Null Count  Dtype         \n",
      "---  ------         --------------  -----         \n",
      " 0   Date           5305 non-null   datetime64[ns]\n",
      " 1   Cum. flow      5305 non-null   float64       \n",
      " 2   Condensate     5305 non-null   float64       \n",
      " 3   Water          5305 non-null   float64       \n",
      " 4   Avg. Pressure  5305 non-null   float64       \n",
      " 5   Total flow     5305 non-null   float64       \n",
      " 6   Day            5305 non-null   object        \n",
      " 7   Month          5305 non-null   object        \n",
      " 8   Year           5305 non-null   object        \n",
      " 9   target         5305 non-null   float64       \n",
      "dtypes: datetime64[ns](1), float64(6), object(3)\n",
      "memory usage: 455.9+ KB\n"
     ]
    }
   ],
   "source": [
    "# information of train_df\n",
    "train_df.info()"
   ]
  },
  {
   "cell_type": "markdown",
   "metadata": {
    "id": "fEkvNMEg7_l5"
   },
   "source": [
    "# Machine learning models"
   ]
  },
  {
   "cell_type": "code",
   "execution_count": 35,
   "metadata": {
    "id": "crubf5dvjuYf"
   },
   "outputs": [],
   "source": [
    "from sklearn.metrics import mean_squared_error, r2_score, mean_absolute_error\n",
    "import numpy as np"
   ]
  },
  {
   "cell_type": "code",
   "execution_count": 36,
   "metadata": {
    "id": "7YmUOnQjuHdw"
   },
   "outputs": [],
   "source": [
    "from sklearn.model_selection import cross_val_score, TimeSeriesSplit\n",
    "time_split_inner = TimeSeriesSplit(n_splits = 3)\n",
    "\n",
    "def plot_model_results1(X, y,model,search_params, test_size=0.3, plot_intervals=False, plot_anomalies=False):\n",
    "    \"\"\"\n",
    "    - Plot model vs original values.\n",
    "    - Prediction interval is 95%\n",
    "    \n",
    "    \"\"\"\n",
    "    X_train, X_test, y_train, y_test = timeseries_train_test_split(X, y, test_size)\n",
    "\n",
    "# Here we are using random forest\n",
    "    model1 = GridSearchCV (model, search_params, cv=time_split_inner, scoring = 'neg_mean_squared_error', \n",
    "                     n_jobs=-1, verbose=1)\n",
    "    model1.fit(X_train, y_train)\n",
    "    final_model = model1.best_estimator_\n",
    "    prediction = final_model.predict(X_test)\n",
    "\n",
    "    plt.figure(figsize=(15, 7))\n",
    "\n",
    "    x = range(prediction.size)\n",
    "    plt.plot(x, prediction, label='prediction', linewidth=2.0)\n",
    "    plt.plot(x, y_test, label='actual', linewidth=2.0)\n",
    "    if plot_intervals:\n",
    "        timeseries_cv = TimeSeriesSplit(n_splits=5)\n",
    "        cv = cross_val_score(model, X_train, y_train, \n",
    "                             cv=timeseries_cv, scoring='neg_mean_absolute_error')\n",
    "        mae = -1 * cv.mean()\n",
    "        deviation = cv.std()\n",
    "\n",
    "        scale = 1.96\n",
    "        margin_error = mae + scale * deviation\n",
    "        lower = prediction - margin_error\n",
    "        upper = prediction + margin_error\n",
    "\n",
    "        fill_alpha = 0.2\n",
    "        fill_color = '#66C2D7'\n",
    "        plt.fill_between(x, lower, upper, color=fill_color, alpha=fill_alpha, label='95% CI')      \n",
    "\n",
    "        if plot_anomalies:\n",
    "            anomalies = np.array([np.nan] * len(y_test))\n",
    "            anomalies[y_test < lower] = y_test[y_test < lower]\n",
    "            anomalies[y_test > upper] = y_test[y_test > upper]\n",
    "            plt.plot(anomalies, 'o', markersize=10, label='Anomalies')\n",
    "\n",
    "    error = mean_absolute_percentage_error(prediction, y_test)\n",
    "    error_MSE = mean_squared_error(prediction, y_test)\n",
    "    error_r2 = r2_score(prediction, y_test)\n",
    "    error_mae = mean_absolute_error(prediction, y_test)\n",
    "    plt.title('Mean Squared percentage error {0:.2f}%'.format(error))\n",
    "    plt.legend(loc='best')\n",
    "    plt.tight_layout()\n",
    "    plt.grid(True)\n",
    "    print(\"The mean squared error is:\", error_MSE)\n",
    "    print(\"The R 2 is:\", error_r2)\n",
    "    print(\"The mean absolute error is:\", error_mae)\n",
    "    print(\"The root_mean square error is:\", np.sqrt(error_MSE))\n",
    "\n",
    "    return model\n",
    "\n",
    "def timeseries_train_test_split(X, y, test_size):\n",
    "  \"\"\"Perform train-test split with respect to time series structure.\"\"\"\n",
    "  test_index = int(len(X) * (1 - test_size))\n",
    "  X_train = X[:test_index]\n",
    "  X_test = X[test_index:]\n",
    "  y_train = y[:test_index]\n",
    "  y_test = y[test_index:]\n",
    "  return X_train, X_test, y_train, y_test\n",
    "\n",
    "def mean_absolute_percentage_error(y_true, y_pred):\n",
    "    return np.mean(np.abs((y_true - y_pred) ))"
   ]
  },
  {
   "cell_type": "code",
   "execution_count": 37,
   "metadata": {
    "id": "voGLvmue8FeD"
   },
   "outputs": [],
   "source": [
    "from sklearn.preprocessing import StandardScaler\n",
    "from sklearn.metrics import mean_squared_error, mean_absolute_error\n",
    "from sklearn.model_selection import GridSearchCV, TimeSeriesSplit, cross_val_score, cross_validate"
   ]
  },
  {
   "cell_type": "code",
   "execution_count": 38,
   "metadata": {
    "id": "eQKk0Pz188-7"
   },
   "outputs": [],
   "source": [
    "from xgboost import XGBRegressor\n",
    "from sklearn.ensemble import RandomForestRegressor\n",
    "from sklearn.linear_model import LinearRegression, Lasso"
   ]
  },
  {
   "cell_type": "code",
   "execution_count": 39,
   "metadata": {
    "colab": {
     "base_uri": "https://localhost:8080/",
     "height": 657
    },
    "id": "rw_yFXwD2-Uj",
    "outputId": "3bdb0c59-3aee-45cf-b749-0e3e7fcc9069"
   },
   "outputs": [
    {
     "data": {
      "text/html": [
       "<div>\n",
       "<style scoped>\n",
       "    .dataframe tbody tr th:only-of-type {\n",
       "        vertical-align: middle;\n",
       "    }\n",
       "\n",
       "    .dataframe tbody tr th {\n",
       "        vertical-align: top;\n",
       "    }\n",
       "\n",
       "    .dataframe thead th {\n",
       "        text-align: right;\n",
       "    }\n",
       "</style>\n",
       "<table border=\"1\" class=\"dataframe\">\n",
       "  <thead>\n",
       "    <tr style=\"text-align: right;\">\n",
       "      <th></th>\n",
       "      <th>Date</th>\n",
       "      <th>Cum. flow</th>\n",
       "      <th>Condensate</th>\n",
       "      <th>Water</th>\n",
       "      <th>Avg. Pressure</th>\n",
       "      <th>Total flow</th>\n",
       "      <th>target</th>\n",
       "    </tr>\n",
       "  </thead>\n",
       "  <tbody>\n",
       "    <tr>\n",
       "      <th>0</th>\n",
       "      <td>2004-05-22</td>\n",
       "      <td>10.7415</td>\n",
       "      <td>0.00</td>\n",
       "      <td>0.00</td>\n",
       "      <td>0.0</td>\n",
       "      <td>10.7415</td>\n",
       "      <td>23.6240</td>\n",
       "    </tr>\n",
       "    <tr>\n",
       "      <th>1</th>\n",
       "      <td>2004-05-23</td>\n",
       "      <td>34.3655</td>\n",
       "      <td>8.05</td>\n",
       "      <td>3.20</td>\n",
       "      <td>2242.0</td>\n",
       "      <td>23.6240</td>\n",
       "      <td>24.2405</td>\n",
       "    </tr>\n",
       "    <tr>\n",
       "      <th>2</th>\n",
       "      <td>2004-05-24</td>\n",
       "      <td>58.6060</td>\n",
       "      <td>8.12</td>\n",
       "      <td>5.03</td>\n",
       "      <td>2283.0</td>\n",
       "      <td>24.2405</td>\n",
       "      <td>25.1527</td>\n",
       "    </tr>\n",
       "    <tr>\n",
       "      <th>3</th>\n",
       "      <td>2004-05-25</td>\n",
       "      <td>83.7587</td>\n",
       "      <td>8.01</td>\n",
       "      <td>3.10</td>\n",
       "      <td>2323.0</td>\n",
       "      <td>25.1527</td>\n",
       "      <td>24.2440</td>\n",
       "    </tr>\n",
       "    <tr>\n",
       "      <th>4</th>\n",
       "      <td>2004-05-26</td>\n",
       "      <td>108.0027</td>\n",
       "      <td>5.58</td>\n",
       "      <td>1.43</td>\n",
       "      <td>2328.5</td>\n",
       "      <td>24.2440</td>\n",
       "      <td>25.1299</td>\n",
       "    </tr>\n",
       "    <tr>\n",
       "      <th>...</th>\n",
       "      <td>...</td>\n",
       "      <td>...</td>\n",
       "      <td>...</td>\n",
       "      <td>...</td>\n",
       "      <td>...</td>\n",
       "      <td>...</td>\n",
       "      <td>...</td>\n",
       "    </tr>\n",
       "    <tr>\n",
       "      <th>5300</th>\n",
       "      <td>2018-11-25</td>\n",
       "      <td>158146.8371</td>\n",
       "      <td>3.75</td>\n",
       "      <td>310.00</td>\n",
       "      <td>1556.0</td>\n",
       "      <td>10.5183</td>\n",
       "      <td>10.6977</td>\n",
       "    </tr>\n",
       "    <tr>\n",
       "      <th>5301</th>\n",
       "      <td>2018-11-26</td>\n",
       "      <td>158157.5348</td>\n",
       "      <td>3.75</td>\n",
       "      <td>338.00</td>\n",
       "      <td>1556.0</td>\n",
       "      <td>10.6977</td>\n",
       "      <td>10.8203</td>\n",
       "    </tr>\n",
       "    <tr>\n",
       "      <th>5302</th>\n",
       "      <td>2018-11-27</td>\n",
       "      <td>158168.3551</td>\n",
       "      <td>4.75</td>\n",
       "      <td>312.00</td>\n",
       "      <td>1560.5</td>\n",
       "      <td>10.8203</td>\n",
       "      <td>10.4677</td>\n",
       "    </tr>\n",
       "    <tr>\n",
       "      <th>5303</th>\n",
       "      <td>2018-11-28</td>\n",
       "      <td>158178.8228</td>\n",
       "      <td>5.75</td>\n",
       "      <td>265.00</td>\n",
       "      <td>1590.0</td>\n",
       "      <td>10.4677</td>\n",
       "      <td>10.8618</td>\n",
       "    </tr>\n",
       "    <tr>\n",
       "      <th>5304</th>\n",
       "      <td>2018-11-29</td>\n",
       "      <td>158189.6846</td>\n",
       "      <td>3.50</td>\n",
       "      <td>293.00</td>\n",
       "      <td>1592.5</td>\n",
       "      <td>10.8618</td>\n",
       "      <td>10.7708</td>\n",
       "    </tr>\n",
       "  </tbody>\n",
       "</table>\n",
       "<p>5305 rows × 7 columns</p>\n",
       "</div>"
      ],
      "text/plain": [
       "           Date    Cum. flow  Condensate   Water  Avg. Pressure  Total flow  \\\n",
       "0    2004-05-22      10.7415        0.00    0.00            0.0     10.7415   \n",
       "1    2004-05-23      34.3655        8.05    3.20         2242.0     23.6240   \n",
       "2    2004-05-24      58.6060        8.12    5.03         2283.0     24.2405   \n",
       "3    2004-05-25      83.7587        8.01    3.10         2323.0     25.1527   \n",
       "4    2004-05-26     108.0027        5.58    1.43         2328.5     24.2440   \n",
       "...         ...          ...         ...     ...            ...         ...   \n",
       "5300 2018-11-25  158146.8371        3.75  310.00         1556.0     10.5183   \n",
       "5301 2018-11-26  158157.5348        3.75  338.00         1556.0     10.6977   \n",
       "5302 2018-11-27  158168.3551        4.75  312.00         1560.5     10.8203   \n",
       "5303 2018-11-28  158178.8228        5.75  265.00         1590.0     10.4677   \n",
       "5304 2018-11-29  158189.6846        3.50  293.00         1592.5     10.8618   \n",
       "\n",
       "       target  \n",
       "0     23.6240  \n",
       "1     24.2405  \n",
       "2     25.1527  \n",
       "3     24.2440  \n",
       "4     25.1299  \n",
       "...       ...  \n",
       "5300  10.6977  \n",
       "5301  10.8203  \n",
       "5302  10.4677  \n",
       "5303  10.8618  \n",
       "5304  10.7708  \n",
       "\n",
       "[5305 rows x 7 columns]"
      ]
     },
     "execution_count": 39,
     "metadata": {},
     "output_type": "execute_result"
    }
   ],
   "source": [
    "train_df = train_df.drop(['Day', 'Year', 'Month'], axis = 1)\n",
    "train_df"
   ]
  },
  {
   "cell_type": "code",
   "execution_count": 40,
   "metadata": {
    "colab": {
     "base_uri": "https://localhost:8080/",
     "height": 498
    },
    "id": "DztavlDjbF-3",
    "outputId": "392ccf7c-0fc0-41a0-f95f-8fcb443611e9"
   },
   "outputs": [
    {
     "data": {
      "text/html": [
       "<div>\n",
       "<style scoped>\n",
       "    .dataframe tbody tr th:only-of-type {\n",
       "        vertical-align: middle;\n",
       "    }\n",
       "\n",
       "    .dataframe tbody tr th {\n",
       "        vertical-align: top;\n",
       "    }\n",
       "\n",
       "    .dataframe thead th {\n",
       "        text-align: right;\n",
       "    }\n",
       "</style>\n",
       "<table border=\"1\" class=\"dataframe\">\n",
       "  <thead>\n",
       "    <tr style=\"text-align: right;\">\n",
       "      <th></th>\n",
       "      <th>Cum. flow</th>\n",
       "      <th>Condensate</th>\n",
       "      <th>Water</th>\n",
       "      <th>Avg. Pressure</th>\n",
       "      <th>Total flow</th>\n",
       "      <th>target</th>\n",
       "    </tr>\n",
       "    <tr>\n",
       "      <th>Date</th>\n",
       "      <th></th>\n",
       "      <th></th>\n",
       "      <th></th>\n",
       "      <th></th>\n",
       "      <th></th>\n",
       "      <th></th>\n",
       "    </tr>\n",
       "  </thead>\n",
       "  <tbody>\n",
       "    <tr>\n",
       "      <th>2004-05-22</th>\n",
       "      <td>10.7415</td>\n",
       "      <td>0.00</td>\n",
       "      <td>0.00</td>\n",
       "      <td>0.0</td>\n",
       "      <td>10.7415</td>\n",
       "      <td>23.6240</td>\n",
       "    </tr>\n",
       "    <tr>\n",
       "      <th>2004-05-23</th>\n",
       "      <td>34.3655</td>\n",
       "      <td>8.05</td>\n",
       "      <td>3.20</td>\n",
       "      <td>2242.0</td>\n",
       "      <td>23.6240</td>\n",
       "      <td>24.2405</td>\n",
       "    </tr>\n",
       "    <tr>\n",
       "      <th>2004-05-24</th>\n",
       "      <td>58.6060</td>\n",
       "      <td>8.12</td>\n",
       "      <td>5.03</td>\n",
       "      <td>2283.0</td>\n",
       "      <td>24.2405</td>\n",
       "      <td>25.1527</td>\n",
       "    </tr>\n",
       "    <tr>\n",
       "      <th>2004-05-25</th>\n",
       "      <td>83.7587</td>\n",
       "      <td>8.01</td>\n",
       "      <td>3.10</td>\n",
       "      <td>2323.0</td>\n",
       "      <td>25.1527</td>\n",
       "      <td>24.2440</td>\n",
       "    </tr>\n",
       "    <tr>\n",
       "      <th>2004-05-26</th>\n",
       "      <td>108.0027</td>\n",
       "      <td>5.58</td>\n",
       "      <td>1.43</td>\n",
       "      <td>2328.5</td>\n",
       "      <td>24.2440</td>\n",
       "      <td>25.1299</td>\n",
       "    </tr>\n",
       "    <tr>\n",
       "      <th>...</th>\n",
       "      <td>...</td>\n",
       "      <td>...</td>\n",
       "      <td>...</td>\n",
       "      <td>...</td>\n",
       "      <td>...</td>\n",
       "      <td>...</td>\n",
       "    </tr>\n",
       "    <tr>\n",
       "      <th>2018-11-25</th>\n",
       "      <td>158146.8371</td>\n",
       "      <td>3.75</td>\n",
       "      <td>310.00</td>\n",
       "      <td>1556.0</td>\n",
       "      <td>10.5183</td>\n",
       "      <td>10.6977</td>\n",
       "    </tr>\n",
       "    <tr>\n",
       "      <th>2018-11-26</th>\n",
       "      <td>158157.5348</td>\n",
       "      <td>3.75</td>\n",
       "      <td>338.00</td>\n",
       "      <td>1556.0</td>\n",
       "      <td>10.6977</td>\n",
       "      <td>10.8203</td>\n",
       "    </tr>\n",
       "    <tr>\n",
       "      <th>2018-11-27</th>\n",
       "      <td>158168.3551</td>\n",
       "      <td>4.75</td>\n",
       "      <td>312.00</td>\n",
       "      <td>1560.5</td>\n",
       "      <td>10.8203</td>\n",
       "      <td>10.4677</td>\n",
       "    </tr>\n",
       "    <tr>\n",
       "      <th>2018-11-28</th>\n",
       "      <td>158178.8228</td>\n",
       "      <td>5.75</td>\n",
       "      <td>265.00</td>\n",
       "      <td>1590.0</td>\n",
       "      <td>10.4677</td>\n",
       "      <td>10.8618</td>\n",
       "    </tr>\n",
       "    <tr>\n",
       "      <th>2018-11-29</th>\n",
       "      <td>158189.6846</td>\n",
       "      <td>3.50</td>\n",
       "      <td>293.00</td>\n",
       "      <td>1592.5</td>\n",
       "      <td>10.8618</td>\n",
       "      <td>10.7708</td>\n",
       "    </tr>\n",
       "  </tbody>\n",
       "</table>\n",
       "<p>5305 rows × 6 columns</p>\n",
       "</div>"
      ],
      "text/plain": [
       "              Cum. flow  Condensate   Water  Avg. Pressure  Total flow  \\\n",
       "Date                                                                     \n",
       "2004-05-22      10.7415        0.00    0.00            0.0     10.7415   \n",
       "2004-05-23      34.3655        8.05    3.20         2242.0     23.6240   \n",
       "2004-05-24      58.6060        8.12    5.03         2283.0     24.2405   \n",
       "2004-05-25      83.7587        8.01    3.10         2323.0     25.1527   \n",
       "2004-05-26     108.0027        5.58    1.43         2328.5     24.2440   \n",
       "...                 ...         ...     ...            ...         ...   \n",
       "2018-11-25  158146.8371        3.75  310.00         1556.0     10.5183   \n",
       "2018-11-26  158157.5348        3.75  338.00         1556.0     10.6977   \n",
       "2018-11-27  158168.3551        4.75  312.00         1560.5     10.8203   \n",
       "2018-11-28  158178.8228        5.75  265.00         1590.0     10.4677   \n",
       "2018-11-29  158189.6846        3.50  293.00         1592.5     10.8618   \n",
       "\n",
       "             target  \n",
       "Date                 \n",
       "2004-05-22  23.6240  \n",
       "2004-05-23  24.2405  \n",
       "2004-05-24  25.1527  \n",
       "2004-05-25  24.2440  \n",
       "2004-05-26  25.1299  \n",
       "...             ...  \n",
       "2018-11-25  10.6977  \n",
       "2018-11-26  10.8203  \n",
       "2018-11-27  10.4677  \n",
       "2018-11-28  10.8618  \n",
       "2018-11-29  10.7708  \n",
       "\n",
       "[5305 rows x 6 columns]"
      ]
     },
     "execution_count": 40,
     "metadata": {},
     "output_type": "execute_result"
    }
   ],
   "source": [
    "train_df['Date'] = pd.to_datetime(train_df['Date'],format='%d/%m/%Y')\n",
    "train_df = train_df.set_index('Date')\n",
    "train_df"
   ]
  },
  {
   "cell_type": "code",
   "execution_count": 41,
   "metadata": {
    "colab": {
     "base_uri": "https://localhost:8080/"
    },
    "id": "9VAivxucfxN4",
    "outputId": "6dd4be16-6a55-4a45-9a75-c82c5f2bdf20"
   },
   "outputs": [
    {
     "name": "stdout",
     "output_type": "stream",
     "text": [
      "<class 'pandas.core.frame.DataFrame'>\n",
      "DatetimeIndex: 5305 entries, 2004-05-22 to 2018-11-29\n",
      "Data columns (total 6 columns):\n",
      " #   Column         Non-Null Count  Dtype  \n",
      "---  ------         --------------  -----  \n",
      " 0   Cum. flow      5305 non-null   float64\n",
      " 1   Condensate     5305 non-null   float64\n",
      " 2   Water          5305 non-null   float64\n",
      " 3   Avg. Pressure  5305 non-null   float64\n",
      " 4   Total flow     5305 non-null   float64\n",
      " 5   target         5305 non-null   float64\n",
      "dtypes: float64(6)\n",
      "memory usage: 290.1 KB\n"
     ]
    }
   ],
   "source": [
    "#information of train_df\n",
    "train_df.info()"
   ]
  },
  {
   "cell_type": "code",
   "execution_count": 42,
   "metadata": {
    "id": "oxH019x-wCeG"
   },
   "outputs": [],
   "source": [
    "train_df.dropna(axis = 0)\n",
    "y = train_df['target'].values\n",
    "train_df1 = train_df.drop('target', axis = 1)\n",
    "X = train_df1.values\n",
    "y = y.astype('float64')\n",
    "X = X.astype('float64')"
   ]
  },
  {
   "cell_type": "markdown",
   "metadata": {
    "id": "QBI7RtIIT4SK"
   },
   "source": [
    "# Random Forest"
   ]
  },
  {
   "cell_type": "code",
   "execution_count": 43,
   "metadata": {
    "id": "1BkNiTA30tDf"
   },
   "outputs": [],
   "source": [
    "# Random forest Regressor\n",
    "rf = RandomForestRegressor(n_estimators=400, min_samples_split=3, max_features='sqrt', random_state=8)\n",
    "\n",
    "rf_params = {'n_estimators': range(300, 500, 25),\n",
    "             'min_samples_split': [2, 3, 4, 5, 6, 7],\n",
    "             'max_features': ['log2', 'sqrt']}"
   ]
  },
  {
   "cell_type": "code",
   "execution_count": 44,
   "metadata": {
    "colab": {
     "base_uri": "https://localhost:8080/",
     "height": 434
    },
    "id": "3bNpuYRRUC18",
    "outputId": "5a97cab8-7a4f-4aa6-b8ed-cf06385bff7a"
   },
   "outputs": [
    {
     "name": "stdout",
     "output_type": "stream",
     "text": [
      "Fitting 3 folds for each of 96 candidates, totalling 288 fits\n",
      "The mean squared error is: 48.04671653212468\n",
      "The R 2 is: -0.08565199042547356\n",
      "The mean absolute error is: 4.70441784208596\n",
      "The root_mean square error is: 6.93157388564276\n"
     ]
    },
    {
     "data": {
      "text/plain": [
       "RandomForestRegressor(max_features='sqrt', min_samples_split=3,\n",
       "                      n_estimators=400, random_state=8)"
      ]
     },
     "execution_count": 44,
     "metadata": {},
     "output_type": "execute_result"
    },
    {
     "data": {
      "image/png": "[encoded data removed]",
      "text/plain": [
       "<Figure size 1080x504 with 1 Axes>"
      ]
     },
     "metadata": {},
     "output_type": "display_data"
    }
   ],
   "source": [
    "plot_model_results1(X,y, rf, rf_params)"
   ]
  },
  {
   "cell_type": "markdown",
   "metadata": {
    "id": "vr4NgKryUGLX"
   },
   "source": [
    "# XGBOOST"
   ]
  },
  {
   "cell_type": "code",
   "execution_count": 45,
   "metadata": {
    "id": "ifc1VSPEwWJW"
   },
   "outputs": [],
   "source": [
    "#Extreme Gradient Boosting\n",
    "xgb = XGBRegressor(n_estimators=100, gamma=200, eta=0.1, subsample=1, objective='reg:squarederror', \n",
    "                       random_state=8)\n",
    "\n",
    "xgb_params = {'n_estimators': range(70, 140, 10),\n",
    "              'subsample': [0.5, 0.75, 1],\n",
    "              'eta': [0.01, 0.05, 0.1, 0.2, 0.3, 0.4],\n",
    "              'gamma': range(150, 310, 10)}"
   ]
  },
  {
   "cell_type": "code",
   "execution_count": 46,
   "metadata": {
    "colab": {
     "base_uri": "https://localhost:8080/",
     "height": 416
    },
    "id": "O9shKF1RUPyn",
    "outputId": "49e73d2f-722b-4bd7-9ff1-841c5b25351c"
   },
   "outputs": [
    {
     "name": "stdout",
     "output_type": "stream",
     "text": [
      "Fitting 3 folds for each of 2016 candidates, totalling 6048 fits\n",
      "The mean squared error is: 14.853714926057519\n",
      "The R 2 is: 0.774752307598359\n",
      "The mean absolute error is: 2.559519590163111\n",
      "The root_mean square error is: 3.8540517544601705\n"
     ]
    },
    {
     "data": {
      "text/plain": [
       "XGBRegressor(base_score=None, booster=None, callbacks=None,\n",
       "             colsample_bylevel=None, colsample_bynode=None,\n",
       "             colsample_bytree=None, early_stopping_rounds=None,\n",
       "             enable_categorical=False, eta=0.1, eval_metric=None, gamma=200,\n",
       "             gpu_id=None, grow_policy=None, importance_type=None,\n",
       "             interaction_constraints=None, learning_rate=None, max_bin=None,\n",
       "             max_cat_to_onehot=None, max_delta_step=None, max_depth=None,\n",
       "             max_leaves=None, min_child_weight=None, missing=nan,\n",
       "             monotone_constraints=None, n_estimators=100, n_jobs=None,\n",
       "             num_parallel_tree=None, predictor=None, random_state=8,\n",
       "             reg_alpha=None, ...)"
      ]
     },
     "execution_count": 46,
     "metadata": {},
     "output_type": "execute_result"
    },
    {
     "data": {
      "image/png": "[encoded data removed]",
      "text/plain": [
       "<Figure size 1080x504 with 1 Axes>"
      ]
     },
     "metadata": {},
     "output_type": "display_data"
    }
   ],
   "source": [
    "plot_model_results1(X,y, xgb, xgb_params)"
   ]
  },
  {
   "cell_type": "markdown",
   "metadata": {
    "id": "oh7SQsilUSdM"
   },
   "source": [
    "# Lasso regression"
   ]
  },
  {
   "cell_type": "code",
   "execution_count": 47,
   "metadata": {
    "id": "P-LLZDDxxUYF"
   },
   "outputs": [],
   "source": [
    "# Lasso Regression\n",
    "lasso = Lasso(fit_intercept=1, alpha=0.05, max_iter=10000, random_state=8)\n",
    "\n",
    "las_params = {'fit_intercept': [1, 0],\n",
    "              'alpha': [0.005, 0.01, 0.03, 0.05, 0.07, 0.1]}"
   ]
  },
  {
   "cell_type": "code",
   "execution_count": 48,
   "metadata": {
    "colab": {
     "base_uri": "https://localhost:8080/",
     "height": 416
    },
    "id": "B8ycEN7nxUP2",
    "outputId": "35f509b3-e43e-456a-e2cb-b96a06e78f22"
   },
   "outputs": [
    {
     "name": "stdout",
     "output_type": "stream",
     "text": [
      "Fitting 3 folds for each of 12 candidates, totalling 36 fits\n",
      "The mean squared error is: 0.15070679172990836\n",
      "The R 2 is: 0.9987073047681446\n",
      "The mean absolute error is: 0.22844409944762195\n",
      "The root_mean square error is: 0.3882097264751469\n"
     ]
    },
    {
     "data": {
      "text/plain": [
       "Lasso(alpha=0.05, fit_intercept=1, max_iter=10000, random_state=8)"
      ]
     },
     "execution_count": 48,
     "metadata": {},
     "output_type": "execute_result"
    },
    {
     "data": {
      "image/png": "[encoded data removed]",
      "text/plain": [
       "<Figure size 1080x504 with 1 Axes>"
      ]
     },
     "metadata": {},
     "output_type": "display_data"
    }
   ],
   "source": [
    "plot_model_results1(X,y, lasso, las_params)"
   ]
  },
  {
   "cell_type": "markdown",
   "metadata": {
    "id": "qU5G7v3-U2w5"
   },
   "source": [
    "# RNN/ LSTM\n"
   ]
  },
  {
   "cell_type": "code",
   "execution_count": 47,
   "metadata": {
    "id": "CXTw2sTX6wNE"
   },
   "outputs": [],
   "source": [
    "#importing required libraries\n",
    "from math import sqrt\n",
    "from numpy import concatenate\n",
    "from matplotlib import pyplot\n",
    "from pandas import read_csv\n",
    "from pandas import DataFrame\n",
    "from pandas import concat\n",
    "from sklearn.preprocessing import MinMaxScaler\n",
    "from sklearn.preprocessing import LabelEncoder\n",
    "from sklearn.metrics import mean_squared_error"
   ]
  },
  {
   "cell_type": "code",
   "execution_count": 48,
   "metadata": {
    "id": "19yeauXe5t6u"
   },
   "outputs": [],
   "source": [
    "# converting series to supervised learning\n",
    "def series_to_supervised(data, n_in=1, n_out=1, dropnan=True):\n",
    "    n_vars = 1 if type(data) is list else data.shape[1]\n",
    "    df = DataFrame(data)\n",
    "    cols, names = list(), list()\n",
    "# this is input sequence (t-n, ... t-1)\n",
    "    for i in range(n_in, 0, -1):\n",
    "        cols.append(df.shift(i))\n",
    "        names += [('var%d(t-%d)' % (j+1, i)) for j in range(n_vars)]\n",
    "# this is forecast sequence (t, t+1, ... t+n)\n",
    "    for i in range(0, n_out):\n",
    "        cols.append(df.shift(-i))\n",
    "        if i == 0:\n",
    "            names += [('var%d(t)' % (j+1)) for j in range(n_vars)]\n",
    "        else:\n",
    "            names += [('var%d(t+%d)' % (j+1, i)) for j in range(n_vars)]\n",
    "    agg = concat(cols, axis=1)\n",
    "    agg.columns = names\n",
    "# here we are droping the rows with NaN values\n",
    "    if dropnan:\n",
    "        agg.dropna(inplace=True)\n",
    "    return agg"
   ]
  },
  {
   "cell_type": "code",
   "execution_count": 49,
   "metadata": {
    "id": "SHjcyg3f9uko"
   },
   "outputs": [],
   "source": [
    "# converting the date into index, and drop values\n",
    "oil = pd.read_csv('petroleumflowdata.csv')\n",
    "oil['Date'] = pd.to_datetime(oil['Date'],format='%d/%m/%Y')\n",
    "oil.set_index('Date',inplace=True)\n",
    "oil.drop(['CGR', 'WGR'], axis=1, inplace=True)"
   ]
  },
  {
   "cell_type": "code",
   "execution_count": 50,
   "metadata": {
    "colab": {
     "base_uri": "https://localhost:8080/"
    },
    "id": "648_JvDCCY45",
    "outputId": "3883349a-fedd-453c-9924-c1dcac41ca70",
    "scrolled": true
   },
   "outputs": [
    {
     "name": "stdout",
     "output_type": "stream",
     "text": [
      "<class 'pandas.core.frame.DataFrame'>\n",
      "DatetimeIndex: 5307 entries, 2004-05-22 to NaT\n",
      "Data columns (total 5 columns):\n",
      " #   Column         Non-Null Count  Dtype  \n",
      "---  ------         --------------  -----  \n",
      " 0   Cum. flow      5307 non-null   float64\n",
      " 1   Condensate     5307 non-null   float64\n",
      " 2   Water          5307 non-null   float64\n",
      " 3   Avg. Pressure  5307 non-null   float64\n",
      " 4   Total flow     5307 non-null   float64\n",
      "dtypes: float64(5)\n",
      "memory usage: 248.8 KB\n"
     ]
    }
   ],
   "source": [
    "# information of oil\n",
    "oil.info()"
   ]
  },
  {
   "cell_type": "code",
   "execution_count": 51,
   "metadata": {
    "colab": {
     "base_uri": "https://localhost:8080/"
    },
    "id": "7HLlt8wt50QU",
    "outputId": "a16d3cfa-037d-4925-b4c1-7c0203e64235"
   },
   "outputs": [
    {
     "name": "stdout",
     "output_type": "stream",
     "text": [
      "(3714, 1, 9) (3714,) (1592, 1, 9) (1592,)\n"
     ]
    }
   ],
   "source": [
    "values1 = oil.values\n",
    "values2 = values1.astype('float32')\n",
    "# normalize features \n",
    "scaler = MinMaxScaler(feature_range=(0,1))\n",
    "\n",
    "\n",
    "# the number of lags \n",
    "reframed = series_to_supervised(values2, 1, 1)\n",
    "\n",
    "scaled = scaler.fit_transform(reframed)\n",
    "# here we splitting the test train\n",
    "n_train = int(oil.shape[0]*0.70)\n",
    "values = scaled\n",
    "train = values[:n_train, :]\n",
    "test = values[n_train:, :]\n",
    "train_X, train_y = train[:, :-1], train[:, -1]\n",
    "test_X, test_y = test[:, :-1], test[:, -1]\n",
    "# Reshape\n",
    "train_X = train_X.reshape((train_X.shape[0], 1, train_X.shape[1]))\n",
    "test_X = test_X.reshape((test_X.shape[0], 1, test_X.shape[1]))\n",
    "print(train_X.shape, train_y.shape, test_X.shape, test_y.shape)"
   ]
  },
  {
   "cell_type": "code",
   "execution_count": 52,
   "metadata": {
    "id": "CJMTrKrl-9k0"
   },
   "outputs": [],
   "source": [
    "from keras.models import Sequential\n",
    "from keras.layers import Dense\n",
    "from keras.layers import LSTM"
   ]
  },
  {
   "cell_type": "code",
   "execution_count": 53,
   "metadata": {
    "colab": {
     "base_uri": "https://localhost:8080/",
     "height": 1000
    },
    "id": "OIxKYfNF74Ln",
    "outputId": "fd4b2ff3-dc16-4b82-8244-5a4a59e4f9c9"
   },
   "outputs": [
    {
     "name": "stdout",
     "output_type": "stream",
     "text": [
      "Epoch 1/50\n",
      "52/52 - 4s - loss: 0.3072 - val_loss: 0.2232 - 4s/epoch - 85ms/step\n",
      "Epoch 2/50\n",
      "52/52 - 0s - loss: 0.2389 - val_loss: 0.2053 - 234ms/epoch - 4ms/step\n",
      "Epoch 3/50\n",
      "52/52 - 0s - loss: 0.2075 - val_loss: 0.1785 - 234ms/epoch - 4ms/step\n",
      "Epoch 4/50\n",
      "52/52 - 0s - loss: 0.1879 - val_loss: 0.1652 - 236ms/epoch - 5ms/step\n",
      "Epoch 5/50\n",
      "52/52 - 0s - loss: 0.1689 - val_loss: 0.1630 - 241ms/epoch - 5ms/step\n",
      "Epoch 6/50\n",
      "52/52 - 0s - loss: 0.1472 - val_loss: 0.1679 - 248ms/epoch - 5ms/step\n",
      "Epoch 7/50\n",
      "52/52 - 0s - loss: 0.1191 - val_loss: 0.1719 - 241ms/epoch - 5ms/step\n",
      "Epoch 8/50\n",
      "52/52 - 0s - loss: 0.0988 - val_loss: 0.1817 - 252ms/epoch - 5ms/step\n",
      "Epoch 9/50\n",
      "52/52 - 0s - loss: 0.0917 - val_loss: 0.1710 - 281ms/epoch - 5ms/step\n",
      "Epoch 10/50\n",
      "52/52 - 0s - loss: 0.0828 - val_loss: 0.1505 - 255ms/epoch - 5ms/step\n",
      "Epoch 11/50\n",
      "52/52 - 0s - loss: 0.0724 - val_loss: 0.0964 - 246ms/epoch - 5ms/step\n",
      "Epoch 12/50\n",
      "52/52 - 0s - loss: 0.0576 - val_loss: 0.0493 - 316ms/epoch - 6ms/step\n",
      "Epoch 13/50\n",
      "52/52 - 0s - loss: 0.0400 - val_loss: 0.0315 - 276ms/epoch - 5ms/step\n",
      "Epoch 14/50\n",
      "52/52 - 0s - loss: 0.0297 - val_loss: 0.0131 - 286ms/epoch - 6ms/step\n",
      "Epoch 15/50\n",
      "52/52 - 0s - loss: 0.0311 - val_loss: 0.0175 - 330ms/epoch - 6ms/step\n",
      "Epoch 16/50\n",
      "52/52 - 0s - loss: 0.0178 - val_loss: 0.0205 - 314ms/epoch - 6ms/step\n",
      "Epoch 17/50\n",
      "52/52 - 0s - loss: 0.0214 - val_loss: 0.0380 - 322ms/epoch - 6ms/step\n",
      "Epoch 18/50\n",
      "52/52 - 0s - loss: 0.0208 - val_loss: 0.0410 - 276ms/epoch - 5ms/step\n",
      "Epoch 19/50\n",
      "52/52 - 0s - loss: 0.0326 - val_loss: 0.0459 - 240ms/epoch - 5ms/step\n",
      "Epoch 20/50\n",
      "52/52 - 0s - loss: 0.0366 - val_loss: 0.0711 - 255ms/epoch - 5ms/step\n",
      "Epoch 21/50\n",
      "52/52 - 0s - loss: 0.0326 - val_loss: 0.0630 - 291ms/epoch - 6ms/step\n",
      "Epoch 22/50\n",
      "52/52 - 0s - loss: 0.0201 - val_loss: 0.0510 - 266ms/epoch - 5ms/step\n",
      "Epoch 23/50\n",
      "52/52 - 0s - loss: 0.0273 - val_loss: 0.0397 - 239ms/epoch - 5ms/step\n",
      "Epoch 24/50\n",
      "52/52 - 0s - loss: 0.0291 - val_loss: 0.0585 - 223ms/epoch - 4ms/step\n",
      "Epoch 25/50\n",
      "52/52 - 0s - loss: 0.0195 - val_loss: 0.0425 - 200ms/epoch - 4ms/step\n",
      "Epoch 26/50\n",
      "52/52 - 0s - loss: 0.0243 - val_loss: 0.0323 - 240ms/epoch - 5ms/step\n",
      "Epoch 27/50\n",
      "52/52 - 0s - loss: 0.0195 - val_loss: 0.0599 - 320ms/epoch - 6ms/step\n",
      "Epoch 28/50\n",
      "52/52 - 0s - loss: 0.0182 - val_loss: 0.0513 - 245ms/epoch - 5ms/step\n",
      "Epoch 29/50\n",
      "52/52 - 0s - loss: 0.0215 - val_loss: 0.0319 - 240ms/epoch - 5ms/step\n",
      "Epoch 30/50\n",
      "52/52 - 0s - loss: 0.0191 - val_loss: 0.0302 - 245ms/epoch - 5ms/step\n",
      "Epoch 31/50\n",
      "52/52 - 0s - loss: 0.0179 - val_loss: 0.0239 - 242ms/epoch - 5ms/step\n",
      "Epoch 32/50\n",
      "52/52 - 0s - loss: 0.0158 - val_loss: 0.0366 - 287ms/epoch - 6ms/step\n",
      "Epoch 33/50\n",
      "52/52 - 0s - loss: 0.0146 - val_loss: 0.0180 - 357ms/epoch - 7ms/step\n",
      "Epoch 34/50\n",
      "52/52 - 0s - loss: 0.0133 - val_loss: 0.0189 - 261ms/epoch - 5ms/step\n",
      "Epoch 35/50\n",
      "52/52 - 0s - loss: 0.0147 - val_loss: 0.0133 - 234ms/epoch - 4ms/step\n",
      "Epoch 36/50\n",
      "52/52 - 0s - loss: 0.0154 - val_loss: 0.0143 - 260ms/epoch - 5ms/step\n",
      "Epoch 37/50\n",
      "52/52 - 0s - loss: 0.0167 - val_loss: 0.0145 - 283ms/epoch - 5ms/step\n",
      "Epoch 38/50\n",
      "52/52 - 0s - loss: 0.0230 - val_loss: 0.0177 - 261ms/epoch - 5ms/step\n",
      "Epoch 39/50\n",
      "52/52 - 0s - loss: 0.0122 - val_loss: 0.0144 - 239ms/epoch - 5ms/step\n",
      "Epoch 40/50\n",
      "52/52 - 0s - loss: 0.0138 - val_loss: 0.0137 - 241ms/epoch - 5ms/step\n",
      "Epoch 41/50\n",
      "52/52 - 0s - loss: 0.0137 - val_loss: 0.0157 - 237ms/epoch - 5ms/step\n",
      "Epoch 42/50\n",
      "52/52 - 0s - loss: 0.0125 - val_loss: 0.0188 - 240ms/epoch - 5ms/step\n",
      "Epoch 43/50\n",
      "52/52 - 0s - loss: 0.0154 - val_loss: 0.0168 - 242ms/epoch - 5ms/step\n",
      "Epoch 44/50\n",
      "52/52 - 0s - loss: 0.0141 - val_loss: 0.0163 - 270ms/epoch - 5ms/step\n",
      "Epoch 45/50\n",
      "52/52 - 0s - loss: 0.0120 - val_loss: 0.0163 - 266ms/epoch - 5ms/step\n",
      "Epoch 46/50\n",
      "52/52 - 0s - loss: 0.0120 - val_loss: 0.0161 - 299ms/epoch - 6ms/step\n",
      "Epoch 47/50\n",
      "52/52 - 0s - loss: 0.0113 - val_loss: 0.0163 - 266ms/epoch - 5ms/step\n",
      "Epoch 48/50\n",
      "52/52 - 0s - loss: 0.0111 - val_loss: 0.0133 - 245ms/epoch - 5ms/step\n",
      "Epoch 49/50\n",
      "52/52 - 0s - loss: 0.0112 - val_loss: 0.0132 - 244ms/epoch - 5ms/step\n",
      "Epoch 50/50\n",
      "52/52 - 0s - loss: 0.0091 - val_loss: 0.0125 - 242ms/epoch - 5ms/step\n"
     ]
    },
    {
     "data": {
      "image/png": "[encoded data removed]",
      "text/plain": [
       "<Figure size 432x288 with 1 Axes>"
      ]
     },
     "metadata": {},
     "output_type": "display_data"
    }
   ],
   "source": [
    "# design network\n",
    "model_1 = Sequential()\n",
    "model_1.add(LSTM(50, input_shape=(train_X.shape[1], train_X.shape[2])))\n",
    "model_1.add(Dense(1))\n",
    "model_1.compile(loss='mae', optimizer='adam')\n",
    "# fit network\n",
    "history = model_1.fit(train_X, train_y, epochs=50, batch_size=72, validation_data=(test_X, test_y), verbose=2, shuffle=False)\n",
    "# plot history\n",
    "pyplot.plot(history.history['loss'], label='train')\n",
    "pyplot.plot(history.history['val_loss'], label='test')\n",
    "pyplot.legend()\n",
    "pyplot.show()"
   ]
  },
  {
   "cell_type": "code",
   "execution_count": 65,
   "metadata": {},
   "outputs": [],
   "source": [
    "yhat = model_1.predict(test_X)"
   ]
  },
  {
   "cell_type": "code",
   "execution_count": 66,
   "metadata": {
    "id": "OTMkDeKsWBwt"
   },
   "outputs": [],
   "source": [
    "mtx = model_1.predict(test_X)"
   ]
  },
  {
   "cell_type": "code",
   "execution_count": 67,
   "metadata": {
    "colab": {
     "base_uri": "https://localhost:8080/"
    },
    "id": "HrtvXNLqs64f",
    "outputId": "dbb00de9-8541-40ba-b7c7-a9f44bb3c381"
   },
   "outputs": [
    {
     "data": {
      "text/plain": [
       "array([[[0.7407368 , 0.25791857, 0.01111111, ..., 0.2522936 ,\n",
       "         0.01001112, 0.38888896]],\n",
       "\n",
       "       [[0.740983  , 0.26244345, 0.01111111, ..., 0.2522936 ,\n",
       "         0.01051673, 0.38925683]],\n",
       "\n",
       "       [[0.74122894, 0.26244345, 0.01161616, ..., 0.24311927,\n",
       "         0.01051673, 0.38888896]],\n",
       "\n",
       "       ...,\n",
       "\n",
       "       [[0.99986327, 0.0520362 , 0.53535354, ..., 0.01834862,\n",
       "         0.59146523, 0.2623253 ]],\n",
       "\n",
       "       [[0.99993193, 0.03167421, 0.59191924, ..., 0.01834862,\n",
       "         0.57933056, 0.26342905]],\n",
       "\n",
       "       [[0.99999994, 0.03167421, 0.579798  , ..., 0.02293578,\n",
       "         0.581353  , 0.2645328 ]]], dtype=float32)"
      ]
     },
     "execution_count": 67,
     "metadata": {},
     "output_type": "execute_result"
    }
   ],
   "source": [
    "test_X"
   ]
  },
  {
   "cell_type": "code",
   "execution_count": 68,
   "metadata": {
    "id": "OYmc0O_Wsn1I"
   },
   "outputs": [],
   "source": [
    "test2 = test_X.reshape(test_X.shape[0], test_X.shape[2])"
   ]
  },
  {
   "cell_type": "code",
   "execution_count": 69,
   "metadata": {
    "id": "Eq81gBSgpbjf"
   },
   "outputs": [],
   "source": [
    "inversed = scaler.inverse_transform(np.hstack((test2, mtx)))"
   ]
  },
  {
   "cell_type": "code",
   "execution_count": 70,
   "metadata": {
    "colab": {
     "base_uri": "https://localhost:8080/"
    },
    "id": "-5SVxzU4ufcJ",
    "outputId": "29e594d1-556b-4081-ed4e-c05d137a9830"
   },
   "outputs": [
    {
     "data": {
      "text/plain": [
       "(1592,)"
      ]
     },
     "execution_count": 70,
     "metadata": {},
     "output_type": "execute_result"
    }
   ],
   "source": [
    "test_y.shape"
   ]
  },
  {
   "cell_type": "code",
   "execution_count": 71,
   "metadata": {
    "id": "FeVxHXirtErT"
   },
   "outputs": [],
   "source": [
    "inversed1 = scaler.inverse_transform(np.hstack((test2, test_y.reshape(test_y.shape[0], 1))))"
   ]
  },
  {
   "cell_type": "code",
   "execution_count": 72,
   "metadata": {
    "id": "VBw7vaj3ut1J"
   },
   "outputs": [],
   "source": [
    "y_actual = inversed1[:, -1]"
   ]
  },
  {
   "cell_type": "code",
   "execution_count": 73,
   "metadata": {
    "id": "d53ulZ4TtgVN"
   },
   "outputs": [],
   "source": [
    "y_pred = inversed[:, -1]"
   ]
  },
  {
   "cell_type": "code",
   "execution_count": 74,
   "metadata": {},
   "outputs": [
    {
     "name": "stdout",
     "output_type": "stream",
     "text": [
      "The mean squared error is: 0.56275654\n",
      "The R 2 is: 0.58961886\n",
      "The mean absolute error is: 0.9948367875261711\n",
      "The root_mean square error is: 0.750171\n"
     ]
    }
   ],
   "source": [
    "#RNN Recurrent Neural Networks/ LSTM Long Short Term Memory\n",
    "error_MSE = mean_squared_error(y_pred, y_actual)\n",
    "error_r2 = mean_absolute_error(y_pred, y_actual)\n",
    "error_mae = r2_score(y_pred, y_actual)\n",
    "print(\"The mean squared error is:\", error_MSE)\n",
    "print(\"The R 2 is:\", error_r2)\n",
    "print(\"The mean absolute error is:\", error_mae)\n",
    "print(\"The root_mean square error is:\", np.sqrt(error_MSE))"
   ]
  },
  {
   "cell_type": "code",
   "execution_count": 75,
   "metadata": {
    "colab": {
     "base_uri": "https://localhost:8080/",
     "height": 327
    },
    "id": "d2dr9g3bWQcC",
    "outputId": "586ca56a-3d7a-4d19-a3a7-d0c382446620"
   },
   "outputs": [
    {
     "data": {
      "image/png": "[encoded data removed]",
      "text/plain": [
       "<Figure size 1080x504 with 1 Axes>"
      ]
     },
     "metadata": {},
     "output_type": "display_data"
    }
   ],
   "source": [
    "plt.figure(figsize=(15, 7))\n",
    "\n",
    "x = range(yhat.size)\n",
    "plt.plot(x,y_pred, label='prediction', linewidth=2.0)\n",
    "plt.plot(x, y_actual, label='actual', linewidth=2.0)\n",
    "plt.show()"
   ]
  }
 ],
 "metadata": {
  "colab": {
   "collapsed_sections": [],
   "name": "Time_series_oil.ipynb",
   "provenance": []
  },
  "kernelspec": {
   "display_name": "Python 3 (ipykernel)",
   "language": "python",
   "name": "python3"
  },
  "language_info": {
   "codemirror_mode": {
    "name": "ipython",
    "version": 3
   },
   "file_extension": ".py",
   "mimetype": "text/x-python",
   "name": "python",
   "nbconvert_exporter": "python",
   "pygments_lexer": "ipython3",
   "version": "3.9.7"
  }
 },
 "nbformat": 4,
 "nbformat_minor": 1
}
